{
 "metadata": {
  "language_info": {
   "codemirror_mode": {
    "name": "ipython",
    "version": 3
   },
   "file_extension": ".py",
   "mimetype": "text/x-python",
   "name": "python",
   "nbconvert_exporter": "python",
   "pygments_lexer": "ipython3",
   "version": "3.8.3-final"
  },
  "orig_nbformat": 2,
  "kernelspec": {
   "name": "python3",
   "display_name": "Python 3",
   "language": "python"
  }
 },
 "nbformat": 4,
 "nbformat_minor": 2,
 "cells": [
  {
   "source": [
    "# Miniproject weighted KNN with dataset Iris\n",
    "## Menglin Xi\n",
    "### Date: 14 Dez. 2020"
   ],
   "cell_type": "markdown",
   "metadata": {}
  },
  {
   "source": [
    "# Set up"
   ],
   "cell_type": "markdown",
   "metadata": {}
  },
  {
   "cell_type": "code",
   "execution_count": 1,
   "metadata": {},
   "outputs": [],
   "source": [
    "import numpy as np\n",
    "import matplotlib.pyplot as plt\n",
    "from collections import Counter\n",
    "\n",
    "seed = 57"
   ]
  },
  {
   "source": [
    "The famous [Iris dataset](https://en.wikipedia.org/wiki/Iris_flower_data_set) first used in R.A. Fisher's classic 1936 paper, [The Use of Multiple Measurements in Taxonomic Problems](https://onlinelibrary.wiley.com/doi/abs/10.1111/j.1469-1809.1936.tb02137.x)  \n",
    "and can also be found on the UCI Machine Learning [Repository](http://archive.ics.uci.edu/ml/index.php).\n",
    "\n",
    "\n",
    "[SKlearn](https://scikit-learn.org/stable/datasets/index.html#iris-dataset)"
   ],
   "cell_type": "markdown",
   "metadata": {}
  },
  {
   "source": [
    "In this dataset 4 charachteristics (features) of the 150 flowers (samples) are measured.  \n",
    "There are 3 different classes of Iris (0 setosa, 1 versicolour, 2 virginica)  \n",
    "Features include sepal lenght, sepal width, petal lenght, petal width."
   ],
   "cell_type": "markdown",
   "metadata": {}
  },
  {
   "cell_type": "code",
   "execution_count": 2,
   "metadata": {},
   "outputs": [],
   "source": [
    "from sklearn.datasets import load_iris\n",
    "'''\n",
    "    we can directly use the following line to load X,y of iris dataset\n",
    "    X,y = load_iris(return_X_y=True)\n",
    "    instead we load iris dataset as a dataframe.\n",
    "    iris, and iris_df will be used just for explaining dataframe methods\n",
    "    They could also be used for visualizations.\n",
    "    For processing we will use just X,y as feature vectors a nd targets\n",
    "'''\n",
    "iris = load_iris(as_frame=True)\n",
    "iris_df = iris.frame\n",
    "\n",
    "X = iris.data.to_numpy()\n",
    "y = iris.target.to_numpy()\n"
   ]
  },
  {
   "source": [
    "## Visualize the dataset"
   ],
   "cell_type": "markdown",
   "metadata": {}
  },
  {
   "cell_type": "code",
   "execution_count": 3,
   "metadata": {},
   "outputs": [
    {
     "output_type": "execute_result",
     "data": {
      "text/plain": [
       "   sepal length (cm)  sepal width (cm)  petal length (cm)  petal width (cm)  \\\n",
       "0                5.1               3.5                1.4               0.2   \n",
       "1                4.9               3.0                1.4               0.2   \n",
       "2                4.7               3.2                1.3               0.2   \n",
       "3                4.6               3.1                1.5               0.2   \n",
       "4                5.0               3.6                1.4               0.2   \n",
       "\n",
       "   target  \n",
       "0       0  \n",
       "1       0  \n",
       "2       0  \n",
       "3       0  \n",
       "4       0  "
      ],
      "text/html": "<div>\n<style scoped>\n    .dataframe tbody tr th:only-of-type {\n        vertical-align: middle;\n    }\n\n    .dataframe tbody tr th {\n        vertical-align: top;\n    }\n\n    .dataframe thead th {\n        text-align: right;\n    }\n</style>\n<table border=\"1\" class=\"dataframe\">\n  <thead>\n    <tr style=\"text-align: right;\">\n      <th></th>\n      <th>sepal length (cm)</th>\n      <th>sepal width (cm)</th>\n      <th>petal length (cm)</th>\n      <th>petal width (cm)</th>\n      <th>target</th>\n    </tr>\n  </thead>\n  <tbody>\n    <tr>\n      <th>0</th>\n      <td>5.1</td>\n      <td>3.5</td>\n      <td>1.4</td>\n      <td>0.2</td>\n      <td>0</td>\n    </tr>\n    <tr>\n      <th>1</th>\n      <td>4.9</td>\n      <td>3.0</td>\n      <td>1.4</td>\n      <td>0.2</td>\n      <td>0</td>\n    </tr>\n    <tr>\n      <th>2</th>\n      <td>4.7</td>\n      <td>3.2</td>\n      <td>1.3</td>\n      <td>0.2</td>\n      <td>0</td>\n    </tr>\n    <tr>\n      <th>3</th>\n      <td>4.6</td>\n      <td>3.1</td>\n      <td>1.5</td>\n      <td>0.2</td>\n      <td>0</td>\n    </tr>\n    <tr>\n      <th>4</th>\n      <td>5.0</td>\n      <td>3.6</td>\n      <td>1.4</td>\n      <td>0.2</td>\n      <td>0</td>\n    </tr>\n  </tbody>\n</table>\n</div>"
     },
     "metadata": {},
     "execution_count": 3
    }
   ],
   "source": [
    "iris_df.head()"
   ]
  },
  {
   "source": [
    "### Split data into train set, and test set"
   ],
   "cell_type": "markdown",
   "metadata": {}
  },
  {
   "cell_type": "code",
   "execution_count": 4,
   "metadata": {},
   "outputs": [],
   "source": [
    "from sklearn.model_selection import train_test_split\n",
    "X_train, X_test, y_train, y_test = train_test_split(X, y, test_size = 0.2, random_state = seed)"
   ]
  },
  {
   "cell_type": "code",
   "execution_count": 5,
   "metadata": {},
   "outputs": [],
   "source": [
    "from sklearn.preprocessing import StandardScaler \n",
    "sc_x = StandardScaler() \n",
    "#X_train = sc_x.fit_transform(X_train) \n",
    "#X_test = sc_x.transform(X_test)"
   ]
  },
  {
   "source": [
    "## Compute the Euclidean distance\n"
   ],
   "cell_type": "markdown",
   "metadata": {}
  },
  {
   "cell_type": "code",
   "execution_count": 6,
   "metadata": {},
   "outputs": [],
   "source": [
    "def compute_distances(X):\n",
    "    \"\"\"\n",
    "    Compute the distance between each query point in X and each training point\n",
    "    in X_train using no explicit loops.\n",
    "\n",
    "    Inputs:\n",
    "        - X: A numpy array of shape (Nq, D) containing query data.\n",
    "\n",
    "    Returns:\n",
    "        - dists: A numpy array of shape (Nq, N) where dists[i, j]\n",
    "          is the Euclidean distance between the i-th query point and the j-th training\n",
    "          point. \n",
    "    \"\"\"\n",
    "    num_query = X.shape[0]  #Number of query samples: Nq\n",
    "    num_train = X_train.shape[0]#Number of training samples: N\n",
    "    dists = np.zeros((num_query, num_train))\n",
    "\n",
    "    X_square = np.square(X)\n",
    "    X_train_T = X_train.T\n",
    "    X_train_Tsqu = np.square(X_train_T)\n",
    "    rowSum_X_square = np.sum(X_square, axis=1)\n",
    "    rowSum_X_square.shape = (num_query, 1)\n",
    "    colSum_X_train_Tsqu = np.sum(X_train_Tsqu, axis=0)\n",
    "    colSum_X_train_Tsqu.shape = (1, num_train)\n",
    "\n",
    "    # X_mul_train is Nq*N\n",
    "    X_mul_train = -2 * np.dot(X, X_train_T)\n",
    "    dists = X_mul_train + rowSum_X_square + colSum_X_train_Tsqu\n",
    "    # *****END OF YOUR CODE (DO NOT DELETE/MODIFY THIS LINE)*****\n",
    "    return dists"
   ]
  },
  {
   "source": [
    "## Weighted functions"
   ],
   "cell_type": "markdown",
   "metadata": {}
  },
  {
   "source": [
    "$$\n",
    "W_{trianguler} = (1- |d|)* I \\\\\n",
    "|d|  \\leqslant 1\n",
    "$$\n",
    "\n",
    "$$\n",
    "W_{Epanechnikov} = \\frac{3(1-d^2)}{4}*I \\\\\n",
    "|d|  \\leqslant 1\n",
    "$$\n",
    "\n",
    "$$\n",
    "W_{inversion} = \\frac{1}{|d|}\n",
    "$$\n",
    "\n",
    "$$\n",
    "W_{Gauss} = \\frac{1}{\\sqrt{2\\pi}}exp(-\\frac{d^2}{2})\n",
    "$$\n",
    "\n",
    "$$\n",
    "W_{cosine} = \\frac{\\pi}{4}\\cos(\\frac{\\pi}{2}d)*I \\\\\n",
    "|d|  \\leqslant 1\n",
    "$$\n",
    "\n",
    "$$\n",
    "W_{mean-one} = \\mathbb{1}\n",
    "$$"
   ],
   "cell_type": "markdown",
   "metadata": {}
  },
  {
   "cell_type": "code",
   "execution_count": 7,
   "metadata": {},
   "outputs": [],
   "source": [
    "def weight_triangular(d):\n",
    "    '''\n",
    "        w = (1-|d|)*I(|d|<=1)\n",
    "    '''\n",
    "    return 1.0-d\n",
    "\n",
    "def weight_Epanechnikov(d):\n",
    "    '''\n",
    "        w = 3/4*(1-d*d)*I(|d|<=1)\n",
    "    '''\n",
    "    return (3/4)*(1-np.multiply(d,d))\n",
    "\n",
    "def weight_inversion(d):\n",
    "    '''\n",
    "        w = 1/|d|\n",
    "    '''\n",
    "    return 1.0/d\n",
    "def weight_one(d):\n",
    "    '''\n",
    "        this means every points have the same weight\n",
    "    '''\n",
    "    return np.ones(d.shape[0])\n",
    "\n",
    "def weight_Gauss(d):\n",
    "    return 1.0/np.sqrt(2*np.pi)*np.exp(-np.multiply(d,d)/2.0)\n",
    "\n",
    "def weight_cosine(d):\n",
    "    return np.pi/4*np.cos(0.5*np.pi*d)"
   ]
  },
  {
   "source": [
    "## Predict function"
   ],
   "cell_type": "markdown",
   "metadata": {}
  },
  {
   "cell_type": "code",
   "execution_count": 8,
   "metadata": {},
   "outputs": [],
   "source": [
    "def predict(dists, weight, k = 5, trainORtest = True, y_check = y_train):\n",
    "    '''\n",
    "        Given a matrix of distances between query points and training points,\n",
    "        predict a label for each query point.\n",
    "\n",
    "        BUT when the trainORtest = true, we use training set as query points, so the nearest point is itself,\n",
    "        so we use the [1:k+1] points to calculate the predict value.\n",
    "\n",
    "        AND When the trainORtest = False, we use testing set as query points, so the nearest point is itself,\n",
    "        so we use the [0:k] points to calculate the predict value.\n",
    "\n",
    "\n",
    "\n",
    "        Inputs:\n",
    "        - dists: A numpy array of shape (num_query, num_train) where dists[i, j]\n",
    "          gives the distance betwen the ith query point and the jth training point.\n",
    "        - weight: use which weighted function\n",
    "        - k: the nearest k points\n",
    "        - trainORtest: use which dateset\n",
    "        - y_check: the target of train set\n",
    "\n",
    "        Returns:\n",
    "        - y: A numpy array of shape (num_query,) containing predicted labels for the\n",
    "          query data, where y[i] is the predicted label for the query point X[i].\n",
    "    '''\n",
    "    num_query = dists.shape[0]#Number of query samples: Nq\n",
    "    y_pred_knn = np.zeros(num_query)\n",
    "    y_pred_wknn = np.zeros(num_query)\n",
    "    for i in range(num_query):\n",
    "        # A list of length k storing the labels of the k nearest neighbors to\n",
    "        # the ith query point.\n",
    "        closest_ky = []\n",
    "        closest_wky = []    \n",
    "        sort_index_dists = np.argsort(dists[i])\n",
    "        sort_dists = np.sort(dists[i])\n",
    "\n",
    "        if(trainORtest):\n",
    "            sort_index_dists = sort_index_dists[1:k+1]\n",
    "            sort_k_dists = sort_dists[1:k+1]\n",
    "            stand_dists = sort_dists[k+1]\n",
    "        else:\n",
    "            sort_index_dists = sort_index_dists[0:k]\n",
    "            sort_k_dists = sort_dists[0:k]\n",
    "            stand_dists = sort_dists[k]\n",
    "    \n",
    "        for index in sort_index_dists:\n",
    "            closest_ky.append(y_check[index])\n",
    "            closest_wky.append(y_check[index])\n",
    "\n",
    "        if weight == weight_Gauss or weight_inversion:\n",
    "            weight_ditst = weight(sort_k_dists)\n",
    "        else:\n",
    "            weight_ditst = weight(sort_k_dists/stand_dists)\n",
    "            \n",
    "        closest_wky_set = list((set(closest_wky)))# closest_wky_set = [0, 1, 2] for iris\n",
    "        closest_y = np.zeros(len(closest_wky_set))# len(set) = 3\n",
    "        \n",
    "        for index in range(0,len(closest_wky)):\n",
    "            set_index = closest_wky_set.index(closest_wky[index])\n",
    "            closest_y[set_index] += weight_ditst[index]\n",
    "           \n",
    "        closest_y = list(closest_y)\n",
    "        y_pred_knn[i] = max(closest_ky, key=closest_ky.count)\n",
    "        y_pred_wknn[i] = closest_wky_set[closest_y.index(max(closest_y))]\n",
    "\n",
    "    return y_pred_knn, y_pred_wknn"
   ]
  },
  {
   "source": [
    "### show the result of training set, the weight-function can be replaced"
   ],
   "cell_type": "markdown",
   "metadata": {}
  },
  {
   "cell_type": "code",
   "execution_count": 9,
   "metadata": {},
   "outputs": [
    {
     "output_type": "stream",
     "name": "stdout",
     "text": [
      "KNN  Got 113 / 120 correct => accuracy: 0.941667\nWKNN Got 113 / 120 correct => accuracy: 0.941667\n"
     ]
    }
   ],
   "source": [
    "distance_train = compute_distances(X_train)\n",
    "y_hat_train_knn, y_hat_train_wknn = predict(distance_train, weight_inversion, k = 5 , trainORtest = True, y_check = y_train)\n",
    "num_train = y_train.shape[0]\n",
    "num_correct_knn = np.sum(y_hat_train_knn == y_train)\n",
    "num_correct_wknn = np.sum(y_hat_train_wknn == y_train)\n",
    "accuracy_knn = float(num_correct_knn) / num_train\n",
    "accuracy_wknn = float(num_correct_wknn) / num_train\n",
    "print('KNN  Got %d / %d correct => accuracy: %f' % (num_correct_knn, num_train, accuracy_knn))\n",
    "print('WKNN Got %d / %d correct => accuracy: %f' % (num_correct_wknn, num_train, accuracy_wknn))"
   ]
  },
  {
   "source": [
    "### show the result of training set, the weight-function can be replaced"
   ],
   "cell_type": "markdown",
   "metadata": {}
  },
  {
   "cell_type": "code",
   "execution_count": 10,
   "metadata": {},
   "outputs": [
    {
     "output_type": "stream",
     "name": "stdout",
     "text": [
      "KNN  Got 30 / 30 correct => accuracy: 1.000000\nWKNN Got 30 / 30 correct => accuracy: 1.000000\n"
     ]
    }
   ],
   "source": [
    "distance_test = compute_distances(X_test)\n",
    "y_hat_test_knn, y_hat_test_wknn = predict(distance_test, weight_inversion, k = 5, trainORtest = False, y_check = y_train)\n",
    "num_test = y_test.shape[0]\n",
    "num_correct_knn = np.sum(y_hat_test_knn == y_test)\n",
    "num_correct_wknn = np.sum(y_hat_test_wknn == y_test)\n",
    "accuracy_knn = float(num_correct_knn) / num_test\n",
    "accuracy_wknn = float(num_correct_wknn) / num_test\n",
    "print('KNN  Got %d / %d correct => accuracy: %f' % (num_correct_knn, num_test, accuracy_knn))\n",
    "print('WKNN Got %d / %d correct => accuracy: %f' % (num_correct_wknn, num_test, accuracy_wknn))"
   ]
  },
  {
   "source": [
    "## View the impact of different training sets and test sets on the results\n",
    "### use different seed"
   ],
   "cell_type": "markdown",
   "metadata": {}
  },
  {
   "cell_type": "code",
   "execution_count": 28,
   "metadata": {},
   "outputs": [
    {
     "output_type": "stream",
     "name": "stdout",
     "text": [
      "Seed = 13\nTrain KNN    Got 114 / 120 correct => accuracy: 0.950000\nTrain WKNN   Got 114 / 120 correct => accuracy: 0.950000\nTest KNN     Got 29 / 30 correct => accuracy: 0.966667\nTest WKNN    Got 29 / 30 correct => accuracy: 0.966667\n\n\nSeed = 19\nTrain KNN    Got 114 / 120 correct => accuracy: 0.950000\nTrain WKNN   Got 114 / 120 correct => accuracy: 0.950000\nTest KNN     Got 30 / 30 correct => accuracy: 1.000000\nTest WKNN    Got 30 / 30 correct => accuracy: 1.000000\n\n\nSeed = 25\nTrain KNN    Got 117 / 120 correct => accuracy: 0.975000\nTrain WKNN   Got 117 / 120 correct => accuracy: 0.975000\nTest KNN     Got 28 / 30 correct => accuracy: 0.933333\nTest WKNN    Got 28 / 30 correct => accuracy: 0.933333\n\n\nSeed = 31\nTrain KNN    Got 117 / 120 correct => accuracy: 0.975000\nTrain WKNN   Got 117 / 120 correct => accuracy: 0.975000\nTest KNN     Got 28 / 30 correct => accuracy: 0.933333\nTest WKNN    Got 28 / 30 correct => accuracy: 0.933333\n\n\nSeed = 37\nTrain KNN    Got 117 / 120 correct => accuracy: 0.975000\nTrain WKNN   Got 116 / 120 correct => accuracy: 0.966667\nTest KNN     Got 29 / 30 correct => accuracy: 0.966667\nTest WKNN    Got 29 / 30 correct => accuracy: 0.966667\n\n\nSeed = 43\nTrain KNN    Got 114 / 120 correct => accuracy: 0.950000\nTrain WKNN   Got 114 / 120 correct => accuracy: 0.950000\nTest KNN     Got 30 / 30 correct => accuracy: 1.000000\nTest WKNN    Got 30 / 30 correct => accuracy: 1.000000\n\n\nSeed = 49\nTrain KNN    Got 117 / 120 correct => accuracy: 0.975000\nTrain WKNN   Got 117 / 120 correct => accuracy: 0.975000\nTest KNN     Got 28 / 30 correct => accuracy: 0.933333\nTest WKNN    Got 28 / 30 correct => accuracy: 0.933333\n\n\nSeed = 55\nTrain KNN    Got 114 / 120 correct => accuracy: 0.950000\nTrain WKNN   Got 114 / 120 correct => accuracy: 0.950000\nTest KNN     Got 29 / 30 correct => accuracy: 0.966667\nTest WKNN    Got 29 / 30 correct => accuracy: 0.966667\n\n\nSeed = 61\nTrain KNN    Got 115 / 120 correct => accuracy: 0.958333\nTrain WKNN   Got 115 / 120 correct => accuracy: 0.958333\nTest KNN     Got 29 / 30 correct => accuracy: 0.966667\nTest WKNN    Got 29 / 30 correct => accuracy: 0.966667\n\n\nSeed = 67\nTrain KNN    Got 117 / 120 correct => accuracy: 0.975000\nTrain WKNN   Got 117 / 120 correct => accuracy: 0.975000\nTest KNN     Got 27 / 30 correct => accuracy: 0.900000\nTest WKNN    Got 28 / 30 correct => accuracy: 0.933333\n\n\nSeed = 73\nTrain KNN    Got 114 / 120 correct => accuracy: 0.950000\nTrain WKNN   Got 114 / 120 correct => accuracy: 0.950000\nTest KNN     Got 29 / 30 correct => accuracy: 0.966667\nTest WKNN    Got 29 / 30 correct => accuracy: 0.966667\n\n\nSeed = 79\nTrain KNN    Got 114 / 120 correct => accuracy: 0.950000\nTrain WKNN   Got 114 / 120 correct => accuracy: 0.950000\nTest KNN     Got 30 / 30 correct => accuracy: 1.000000\nTest WKNN    Got 30 / 30 correct => accuracy: 1.000000\n\n\nSeed = 85\nTrain KNN    Got 115 / 120 correct => accuracy: 0.958333\nTrain WKNN   Got 115 / 120 correct => accuracy: 0.958333\nTest KNN     Got 29 / 30 correct => accuracy: 0.966667\nTest WKNN    Got 29 / 30 correct => accuracy: 0.966667\n\n\nSeed = 91\nTrain KNN    Got 114 / 120 correct => accuracy: 0.950000\nTrain WKNN   Got 114 / 120 correct => accuracy: 0.950000\nTest KNN     Got 30 / 30 correct => accuracy: 1.000000\nTest WKNN    Got 30 / 30 correct => accuracy: 1.000000\n\n\nSeed = 97\nTrain KNN    Got 118 / 120 correct => accuracy: 0.983333\nTrain WKNN   Got 118 / 120 correct => accuracy: 0.983333\nTest KNN     Got 27 / 30 correct => accuracy: 0.900000\nTest WKNN    Got 27 / 30 correct => accuracy: 0.900000\n\n\nSeed = 103\nTrain KNN    Got 114 / 120 correct => accuracy: 0.950000\nTrain WKNN   Got 114 / 120 correct => accuracy: 0.950000\nTest KNN     Got 30 / 30 correct => accuracy: 1.000000\nTest WKNN    Got 30 / 30 correct => accuracy: 1.000000\n\n\nSeed = 109\nTrain KNN    Got 118 / 120 correct => accuracy: 0.983333\nTrain WKNN   Got 118 / 120 correct => accuracy: 0.983333\nTest KNN     Got 27 / 30 correct => accuracy: 0.900000\nTest WKNN    Got 27 / 30 correct => accuracy: 0.900000\n\n\nSeed = 115\nTrain KNN    Got 116 / 120 correct => accuracy: 0.966667\nTrain WKNN   Got 116 / 120 correct => accuracy: 0.966667\nTest KNN     Got 28 / 30 correct => accuracy: 0.933333\nTest WKNN    Got 28 / 30 correct => accuracy: 0.933333\n\n\nSeed = 121\nTrain KNN    Got 115 / 120 correct => accuracy: 0.958333\nTrain WKNN   Got 115 / 120 correct => accuracy: 0.958333\nTest KNN     Got 29 / 30 correct => accuracy: 0.966667\nTest WKNN    Got 29 / 30 correct => accuracy: 0.966667\n\n\nSeed = 127\nTrain KNN    Got 115 / 120 correct => accuracy: 0.958333\nTrain WKNN   Got 115 / 120 correct => accuracy: 0.958333\nTest KNN     Got 28 / 30 correct => accuracy: 0.933333\nTest WKNN    Got 28 / 30 correct => accuracy: 0.933333\n\n\n"
     ]
    }
   ],
   "source": [
    "seedlist = range(13,133,6)\n",
    "train_knn_correct = []\n",
    "train_wknn_correct = []\n",
    "test_knn_correct = []\n",
    "test_wknn_correct = []\n",
    "for seed in seedlist:\n",
    "    X_train, X_test, y_train, y_test = train_test_split(X, y, test_size = 0.2, random_state = seed)\n",
    "    distance_train = compute_distances(X_train)\n",
    "    distance_test = compute_distances(X_test)\n",
    "    num_train = y_train.shape[0]\n",
    "    num_test = y_test.shape[0]\n",
    "\n",
    "    print(\"Seed = %d\" % seed)\n",
    "    y_hat_train_knn, y_hat_train_wknn = predict(distance_train, weight_inversion, k = 3 , trainORtest = True, y_check = y_train)\n",
    "\n",
    "    num_correct_knn = np.sum(y_hat_train_knn == y_train)\n",
    "    num_correct_wknn = np.sum(y_hat_train_wknn == y_train)\n",
    "    accuracy_knn = float(num_correct_knn) / num_train\n",
    "    accuracy_wknn = float(num_correct_wknn) / num_train\n",
    "    train_knn_correct.append(accuracy_knn)\n",
    "    train_wknn_correct.append(accuracy_wknn)\n",
    "    print('Train KNN    Got %d / %d correct => accuracy: %f' % (num_correct_knn, num_train, accuracy_knn))\n",
    "    print('Train WKNN   Got %d / %d correct => accuracy: %f' % (num_correct_wknn, num_train, accuracy_wknn))\n",
    "\n",
    "\n",
    "\n",
    "    y_hat_test_knn, y_hat_test_wknn = predict(distance_test, weight_inversion, k = 3, trainORtest = False, y_check = y_train)\n",
    "\n",
    "    num_correct_knn = np.sum(y_hat_test_knn == y_test)\n",
    "    num_correct_wknn = np.sum(y_hat_test_wknn == y_test)\n",
    "    accuracy_knn = float(num_correct_knn) / num_test\n",
    "    accuracy_wknn = float(num_correct_wknn) / num_test\n",
    "    test_knn_correct.append(accuracy_knn)\n",
    "    test_wknn_correct.append(accuracy_wknn)\n",
    "    print('Test KNN     Got %d / %d correct => accuracy: %f' % (num_correct_knn, num_test, accuracy_knn))\n",
    "    print('Test WKNN    Got %d / %d correct => accuracy: %f' % (num_correct_wknn, num_test, accuracy_wknn))\n",
    "    print('\\n')"
   ]
  },
  {
   "source": [],
   "cell_type": "markdown",
   "metadata": {}
  },
  {
   "cell_type": "code",
   "execution_count": 25,
   "metadata": {},
   "outputs": [
    {
     "output_type": "display_data",
     "data": {
      "text/plain": "<Figure size 1080x576 with 1 Axes>",
      "image/svg+xml": "<?xml version=\"1.0\" encoding=\"utf-8\" standalone=\"no\"?>\n<!DOCTYPE svg PUBLIC \"-//W3C//DTD SVG 1.1//EN\"\n  \"http://www.w3.org/Graphics/SVG/1.1/DTD/svg11.dtd\">\n<!-- Created with matplotlib (https://matplotlib.org/) -->\n<svg height=\"481.07625pt\" version=\"1.1\" viewBox=\"0 0 874.303125 481.07625\" width=\"874.303125pt\" xmlns=\"http://www.w3.org/2000/svg\" xmlns:xlink=\"http://www.w3.org/1999/xlink\">\n <defs>\n  <style type=\"text/css\">\n*{stroke-linecap:butt;stroke-linejoin:round;}\n  </style>\n </defs>\n <g id=\"figure_1\">\n  <g id=\"patch_1\">\n   <path d=\"M 0 481.07625 \nL 874.303125 481.07625 \nL 874.303125 0 \nL 0 0 \nz\n\" style=\"fill:none;\"/>\n  </g>\n  <g id=\"axes_1\">\n   <g id=\"patch_2\">\n    <path d=\"M 30.103125 457.198125 \nL 867.103125 457.198125 \nL 867.103125 22.318125 \nL 30.103125 22.318125 \nz\n\" style=\"fill:#ffffff;\"/>\n   </g>\n   <g id=\"patch_3\">\n    <path clip-path=\"url(#p807bcd3f41)\" d=\"M 68.14858 457.198125 \nL 76.243357 457.198125 \nL 76.243357 63.735268 \nL 68.14858 63.735268 \nz\n\" style=\"fill:#bfbf00;\"/>\n   </g>\n   <g id=\"patch_4\">\n    <path clip-path=\"url(#p807bcd3f41)\" d=\"M 108.622467 457.198125 \nL 116.717245 457.198125 \nL 116.717245 60.283839 \nL 108.622467 60.283839 \nz\n\" style=\"fill:#bfbf00;\"/>\n   </g>\n   <g id=\"patch_5\">\n    <path clip-path=\"url(#p807bcd3f41)\" d=\"M 149.096355 457.198125 \nL 157.191133 457.198125 \nL 157.191133 56.832411 \nL 149.096355 56.832411 \nz\n\" style=\"fill:#bfbf00;\"/>\n   </g>\n   <g id=\"patch_6\">\n    <path clip-path=\"url(#p807bcd3f41)\" d=\"M 189.570243 457.198125 \nL 197.665021 457.198125 \nL 197.665021 56.832411 \nL 189.570243 56.832411 \nz\n\" style=\"fill:#bfbf00;\"/>\n   </g>\n   <g id=\"patch_7\">\n    <path clip-path=\"url(#p807bcd3f41)\" d=\"M 230.044131 457.198125 \nL 238.138908 457.198125 \nL 238.138908 56.832411 \nL 230.044131 56.832411 \nz\n\" style=\"fill:#bfbf00;\"/>\n   </g>\n   <g id=\"patch_8\">\n    <path clip-path=\"url(#p807bcd3f41)\" d=\"M 270.518019 457.198125 \nL 278.612796 457.198125 \nL 278.612796 67.186696 \nL 270.518019 67.186696 \nz\n\" style=\"fill:#bfbf00;\"/>\n   </g>\n   <g id=\"patch_9\">\n    <path clip-path=\"url(#p807bcd3f41)\" d=\"M 310.991906 457.198125 \nL 319.086684 457.198125 \nL 319.086684 53.380982 \nL 310.991906 53.380982 \nz\n\" style=\"fill:#bfbf00;\"/>\n   </g>\n   <g id=\"patch_10\">\n    <path clip-path=\"url(#p807bcd3f41)\" d=\"M 351.465794 457.198125 \nL 359.560572 457.198125 \nL 359.560572 70.638125 \nL 351.465794 70.638125 \nz\n\" style=\"fill:#bfbf00;\"/>\n   </g>\n   <g id=\"patch_11\">\n    <path clip-path=\"url(#p807bcd3f41)\" d=\"M 391.939682 457.198125 \nL 400.03446 457.198125 \nL 400.03446 53.380982 \nL 391.939682 53.380982 \nz\n\" style=\"fill:#bfbf00;\"/>\n   </g>\n   <g id=\"patch_12\">\n    <path clip-path=\"url(#p807bcd3f41)\" d=\"M 432.41357 457.198125 \nL 440.508347 457.198125 \nL 440.508347 49.929554 \nL 432.41357 49.929554 \nz\n\" style=\"fill:#bfbf00;\"/>\n   </g>\n   <g id=\"patch_13\">\n    <path clip-path=\"url(#p807bcd3f41)\" d=\"M 472.887458 457.198125 \nL 480.982235 457.198125 \nL 480.982235 53.380982 \nL 472.887458 53.380982 \nz\n\" style=\"fill:#bfbf00;\"/>\n   </g>\n   <g id=\"patch_14\">\n    <path clip-path=\"url(#p807bcd3f41)\" d=\"M 513.361346 457.198125 \nL 521.456123 457.198125 \nL 521.456123 63.735268 \nL 513.361346 63.735268 \nz\n\" style=\"fill:#bfbf00;\"/>\n   </g>\n   <g id=\"patch_15\">\n    <path clip-path=\"url(#p807bcd3f41)\" d=\"M 553.835233 457.198125 \nL 561.930011 457.198125 \nL 561.930011 60.283839 \nL 553.835233 60.283839 \nz\n\" style=\"fill:#bfbf00;\"/>\n   </g>\n   <g id=\"patch_16\">\n    <path clip-path=\"url(#p807bcd3f41)\" d=\"M 594.309121 457.198125 \nL 602.403899 457.198125 \nL 602.403899 60.283839 \nL 594.309121 60.283839 \nz\n\" style=\"fill:#bfbf00;\"/>\n   </g>\n   <g id=\"patch_17\">\n    <path clip-path=\"url(#p807bcd3f41)\" d=\"M 634.783009 457.198125 \nL 642.877787 457.198125 \nL 642.877787 53.380982 \nL 634.783009 53.380982 \nz\n\" style=\"fill:#bfbf00;\"/>\n   </g>\n   <g id=\"patch_18\">\n    <path clip-path=\"url(#p807bcd3f41)\" d=\"M 675.256897 457.198125 \nL 683.351674 457.198125 \nL 683.351674 56.832411 \nL 675.256897 56.832411 \nz\n\" style=\"fill:#bfbf00;\"/>\n   </g>\n   <g id=\"patch_19\">\n    <path clip-path=\"url(#p807bcd3f41)\" d=\"M 715.730785 457.198125 \nL 723.825562 457.198125 \nL 723.825562 53.380982 \nL 715.730785 53.380982 \nz\n\" style=\"fill:#bfbf00;\"/>\n   </g>\n   <g id=\"patch_20\">\n    <path clip-path=\"url(#p807bcd3f41)\" d=\"M 756.204672 457.198125 \nL 764.29945 457.198125 \nL 764.29945 67.186696 \nL 756.204672 67.186696 \nz\n\" style=\"fill:#bfbf00;\"/>\n   </g>\n   <g id=\"patch_21\">\n    <path clip-path=\"url(#p807bcd3f41)\" d=\"M 796.67856 457.198125 \nL 804.773338 457.198125 \nL 804.773338 56.832411 \nL 796.67856 56.832411 \nz\n\" style=\"fill:#bfbf00;\"/>\n   </g>\n   <g id=\"patch_22\">\n    <path clip-path=\"url(#p807bcd3f41)\" d=\"M 76.243357 457.198125 \nL 84.338135 457.198125 \nL 84.338135 63.735268 \nL 76.243357 63.735268 \nz\n\" style=\"fill:#ff0000;\"/>\n   </g>\n   <g id=\"patch_23\">\n    <path clip-path=\"url(#p807bcd3f41)\" d=\"M 116.717245 457.198125 \nL 124.812022 457.198125 \nL 124.812022 60.283839 \nL 116.717245 60.283839 \nz\n\" style=\"fill:#ff0000;\"/>\n   </g>\n   <g id=\"patch_24\">\n    <path clip-path=\"url(#p807bcd3f41)\" d=\"M 157.191133 457.198125 \nL 165.28591 457.198125 \nL 165.28591 56.832411 \nL 157.191133 56.832411 \nz\n\" style=\"fill:#ff0000;\"/>\n   </g>\n   <g id=\"patch_25\">\n    <path clip-path=\"url(#p807bcd3f41)\" d=\"M 197.665021 457.198125 \nL 205.759798 457.198125 \nL 205.759798 56.832411 \nL 197.665021 56.832411 \nz\n\" style=\"fill:#ff0000;\"/>\n   </g>\n   <g id=\"patch_26\">\n    <path clip-path=\"url(#p807bcd3f41)\" d=\"M 238.138908 457.198125 \nL 246.233686 457.198125 \nL 246.233686 56.832411 \nL 238.138908 56.832411 \nz\n\" style=\"fill:#ff0000;\"/>\n   </g>\n   <g id=\"patch_27\">\n    <path clip-path=\"url(#p807bcd3f41)\" d=\"M 278.612796 457.198125 \nL 286.707574 457.198125 \nL 286.707574 63.735268 \nL 278.612796 63.735268 \nz\n\" style=\"fill:#ff0000;\"/>\n   </g>\n   <g id=\"patch_28\">\n    <path clip-path=\"url(#p807bcd3f41)\" d=\"M 319.086684 457.198125 \nL 327.181462 457.198125 \nL 327.181462 53.380982 \nL 319.086684 53.380982 \nz\n\" style=\"fill:#ff0000;\"/>\n   </g>\n   <g id=\"patch_29\">\n    <path clip-path=\"url(#p807bcd3f41)\" d=\"M 359.560572 457.198125 \nL 367.655349 457.198125 \nL 367.655349 70.638125 \nL 359.560572 70.638125 \nz\n\" style=\"fill:#ff0000;\"/>\n   </g>\n   <g id=\"patch_30\">\n    <path clip-path=\"url(#p807bcd3f41)\" d=\"M 400.03446 457.198125 \nL 408.129237 457.198125 \nL 408.129237 53.380982 \nL 400.03446 53.380982 \nz\n\" style=\"fill:#ff0000;\"/>\n   </g>\n   <g id=\"patch_31\">\n    <path clip-path=\"url(#p807bcd3f41)\" d=\"M 440.508347 457.198125 \nL 448.603125 457.198125 \nL 448.603125 49.929554 \nL 440.508347 49.929554 \nz\n\" style=\"fill:#ff0000;\"/>\n   </g>\n   <g id=\"patch_32\">\n    <path clip-path=\"url(#p807bcd3f41)\" d=\"M 480.982235 457.198125 \nL 489.077013 457.198125 \nL 489.077013 53.380982 \nL 480.982235 53.380982 \nz\n\" style=\"fill:#ff0000;\"/>\n   </g>\n   <g id=\"patch_33\">\n    <path clip-path=\"url(#p807bcd3f41)\" d=\"M 521.456123 457.198125 \nL 529.550901 457.198125 \nL 529.550901 63.735268 \nL 521.456123 63.735268 \nz\n\" style=\"fill:#ff0000;\"/>\n   </g>\n   <g id=\"patch_34\">\n    <path clip-path=\"url(#p807bcd3f41)\" d=\"M 561.930011 457.198125 \nL 570.024788 457.198125 \nL 570.024788 56.832411 \nL 561.930011 56.832411 \nz\n\" style=\"fill:#ff0000;\"/>\n   </g>\n   <g id=\"patch_35\">\n    <path clip-path=\"url(#p807bcd3f41)\" d=\"M 602.403899 457.198125 \nL 610.498676 457.198125 \nL 610.498676 60.283839 \nL 602.403899 60.283839 \nz\n\" style=\"fill:#ff0000;\"/>\n   </g>\n   <g id=\"patch_36\">\n    <path clip-path=\"url(#p807bcd3f41)\" d=\"M 642.877787 457.198125 \nL 650.972564 457.198125 \nL 650.972564 53.380982 \nL 642.877787 53.380982 \nz\n\" style=\"fill:#ff0000;\"/>\n   </g>\n   <g id=\"patch_37\">\n    <path clip-path=\"url(#p807bcd3f41)\" d=\"M 683.351674 457.198125 \nL 691.446452 457.198125 \nL 691.446452 56.832411 \nL 683.351674 56.832411 \nz\n\" style=\"fill:#ff0000;\"/>\n   </g>\n   <g id=\"patch_38\">\n    <path clip-path=\"url(#p807bcd3f41)\" d=\"M 723.825562 457.198125 \nL 731.92034 457.198125 \nL 731.92034 53.380982 \nL 723.825562 53.380982 \nz\n\" style=\"fill:#ff0000;\"/>\n   </g>\n   <g id=\"patch_39\">\n    <path clip-path=\"url(#p807bcd3f41)\" d=\"M 764.29945 457.198125 \nL 772.394228 457.198125 \nL 772.394228 67.186696 \nL 764.29945 67.186696 \nz\n\" style=\"fill:#ff0000;\"/>\n   </g>\n   <g id=\"patch_40\">\n    <path clip-path=\"url(#p807bcd3f41)\" d=\"M 804.773338 457.198125 \nL 812.868115 457.198125 \nL 812.868115 56.832411 \nL 804.773338 56.832411 \nz\n\" style=\"fill:#ff0000;\"/>\n   </g>\n   <g id=\"patch_41\">\n    <path clip-path=\"url(#p807bcd3f41)\" d=\"M 84.338135 457.198125 \nL 92.432912 457.198125 \nL 92.432912 43.026696 \nL 84.338135 43.026696 \nz\n\" style=\"fill:#bf00bf;\"/>\n   </g>\n   <g id=\"patch_42\">\n    <path clip-path=\"url(#p807bcd3f41)\" d=\"M 124.812022 457.198125 \nL 132.9068 457.198125 \nL 132.9068 56.832411 \nL 124.812022 56.832411 \nz\n\" style=\"fill:#bf00bf;\"/>\n   </g>\n   <g id=\"patch_43\">\n    <path clip-path=\"url(#p807bcd3f41)\" d=\"M 165.28591 457.198125 \nL 173.380688 457.198125 \nL 173.380688 56.832411 \nL 165.28591 56.832411 \nz\n\" style=\"fill:#bf00bf;\"/>\n   </g>\n   <g id=\"patch_44\">\n    <path clip-path=\"url(#p807bcd3f41)\" d=\"M 205.759798 457.198125 \nL 213.854576 457.198125 \nL 213.854576 70.638125 \nL 205.759798 70.638125 \nz\n\" style=\"fill:#bf00bf;\"/>\n   </g>\n   <g id=\"patch_45\">\n    <path clip-path=\"url(#p807bcd3f41)\" d=\"M 246.233686 457.198125 \nL 254.328463 457.198125 \nL 254.328463 70.638125 \nL 246.233686 70.638125 \nz\n\" style=\"fill:#bf00bf;\"/>\n   </g>\n   <g id=\"patch_46\">\n    <path clip-path=\"url(#p807bcd3f41)\" d=\"M 286.707574 457.198125 \nL 294.802351 457.198125 \nL 294.802351 56.832411 \nL 286.707574 56.832411 \nz\n\" style=\"fill:#bf00bf;\"/>\n   </g>\n   <g id=\"patch_47\">\n    <path clip-path=\"url(#p807bcd3f41)\" d=\"M 327.181462 457.198125 \nL 335.276239 457.198125 \nL 335.276239 70.638125 \nL 327.181462 70.638125 \nz\n\" style=\"fill:#bf00bf;\"/>\n   </g>\n   <g id=\"patch_48\">\n    <path clip-path=\"url(#p807bcd3f41)\" d=\"M 367.655349 457.198125 \nL 375.750127 457.198125 \nL 375.750127 43.026696 \nL 367.655349 43.026696 \nz\n\" style=\"fill:#bf00bf;\"/>\n   </g>\n   <g id=\"patch_49\">\n    <path clip-path=\"url(#p807bcd3f41)\" d=\"M 408.129237 457.198125 \nL 416.224015 457.198125 \nL 416.224015 84.443839 \nL 408.129237 84.443839 \nz\n\" style=\"fill:#bf00bf;\"/>\n   </g>\n   <g id=\"patch_50\">\n    <path clip-path=\"url(#p807bcd3f41)\" d=\"M 448.603125 457.198125 \nL 456.697903 457.198125 \nL 456.697903 84.443839 \nL 448.603125 84.443839 \nz\n\" style=\"fill:#bf00bf;\"/>\n   </g>\n   <g id=\"patch_51\">\n    <path clip-path=\"url(#p807bcd3f41)\" d=\"M 489.077013 457.198125 \nL 497.17179 457.198125 \nL 497.17179 56.832411 \nL 489.077013 56.832411 \nz\n\" style=\"fill:#bf00bf;\"/>\n   </g>\n   <g id=\"patch_52\">\n    <path clip-path=\"url(#p807bcd3f41)\" d=\"M 529.550901 457.198125 \nL 537.645678 457.198125 \nL 537.645678 56.832411 \nL 529.550901 56.832411 \nz\n\" style=\"fill:#bf00bf;\"/>\n   </g>\n   <g id=\"patch_53\">\n    <path clip-path=\"url(#p807bcd3f41)\" d=\"M 570.024788 457.198125 \nL 578.119566 457.198125 \nL 578.119566 56.832411 \nL 570.024788 56.832411 \nz\n\" style=\"fill:#bf00bf;\"/>\n   </g>\n   <g id=\"patch_54\">\n    <path clip-path=\"url(#p807bcd3f41)\" d=\"M 610.498676 457.198125 \nL 618.593454 457.198125 \nL 618.593454 56.832411 \nL 610.498676 56.832411 \nz\n\" style=\"fill:#bf00bf;\"/>\n   </g>\n   <g id=\"patch_55\">\n    <path clip-path=\"url(#p807bcd3f41)\" d=\"M 650.972564 457.198125 \nL 659.067342 457.198125 \nL 659.067342 70.638125 \nL 650.972564 70.638125 \nz\n\" style=\"fill:#bf00bf;\"/>\n   </g>\n   <g id=\"patch_56\">\n    <path clip-path=\"url(#p807bcd3f41)\" d=\"M 691.446452 457.198125 \nL 699.541229 457.198125 \nL 699.541229 56.832411 \nL 691.446452 56.832411 \nz\n\" style=\"fill:#bf00bf;\"/>\n   </g>\n   <g id=\"patch_57\">\n    <path clip-path=\"url(#p807bcd3f41)\" d=\"M 731.92034 457.198125 \nL 740.015117 457.198125 \nL 740.015117 70.638125 \nL 731.92034 70.638125 \nz\n\" style=\"fill:#bf00bf;\"/>\n   </g>\n   <g id=\"patch_58\">\n    <path clip-path=\"url(#p807bcd3f41)\" d=\"M 772.394228 457.198125 \nL 780.489005 457.198125 \nL 780.489005 56.832411 \nL 772.394228 56.832411 \nz\n\" style=\"fill:#bf00bf;\"/>\n   </g>\n   <g id=\"patch_59\">\n    <path clip-path=\"url(#p807bcd3f41)\" d=\"M 812.868115 457.198125 \nL 820.962893 457.198125 \nL 820.962893 56.832411 \nL 812.868115 56.832411 \nz\n\" style=\"fill:#bf00bf;\"/>\n   </g>\n   <g id=\"patch_60\">\n    <path clip-path=\"url(#p807bcd3f41)\" d=\"M 92.432912 457.198125 \nL 100.52769 457.198125 \nL 100.52769 43.026696 \nL 92.432912 43.026696 \nz\n\" style=\"fill:#008000;\"/>\n   </g>\n   <g id=\"patch_61\">\n    <path clip-path=\"url(#p807bcd3f41)\" d=\"M 132.9068 457.198125 \nL 141.001578 457.198125 \nL 141.001578 56.832411 \nL 132.9068 56.832411 \nz\n\" style=\"fill:#008000;\"/>\n   </g>\n   <g id=\"patch_62\">\n    <path clip-path=\"url(#p807bcd3f41)\" d=\"M 173.380688 457.198125 \nL 181.475465 457.198125 \nL 181.475465 56.832411 \nL 173.380688 56.832411 \nz\n\" style=\"fill:#008000;\"/>\n   </g>\n   <g id=\"patch_63\">\n    <path clip-path=\"url(#p807bcd3f41)\" d=\"M 213.854576 457.198125 \nL 221.949353 457.198125 \nL 221.949353 70.638125 \nL 213.854576 70.638125 \nz\n\" style=\"fill:#008000;\"/>\n   </g>\n   <g id=\"patch_64\">\n    <path clip-path=\"url(#p807bcd3f41)\" d=\"M 254.328463 457.198125 \nL 262.423241 457.198125 \nL 262.423241 70.638125 \nL 254.328463 70.638125 \nz\n\" style=\"fill:#008000;\"/>\n   </g>\n   <g id=\"patch_65\">\n    <path clip-path=\"url(#p807bcd3f41)\" d=\"M 294.802351 457.198125 \nL 302.897129 457.198125 \nL 302.897129 56.832411 \nL 294.802351 56.832411 \nz\n\" style=\"fill:#008000;\"/>\n   </g>\n   <g id=\"patch_66\">\n    <path clip-path=\"url(#p807bcd3f41)\" d=\"M 335.276239 457.198125 \nL 343.371017 457.198125 \nL 343.371017 70.638125 \nL 335.276239 70.638125 \nz\n\" style=\"fill:#008000;\"/>\n   </g>\n   <g id=\"patch_67\">\n    <path clip-path=\"url(#p807bcd3f41)\" d=\"M 375.750127 457.198125 \nL 383.844904 457.198125 \nL 383.844904 43.026696 \nL 375.750127 43.026696 \nz\n\" style=\"fill:#008000;\"/>\n   </g>\n   <g id=\"patch_68\">\n    <path clip-path=\"url(#p807bcd3f41)\" d=\"M 416.224015 457.198125 \nL 424.318792 457.198125 \nL 424.318792 84.443839 \nL 416.224015 84.443839 \nz\n\" style=\"fill:#008000;\"/>\n   </g>\n   <g id=\"patch_69\">\n    <path clip-path=\"url(#p807bcd3f41)\" d=\"M 456.697903 457.198125 \nL 464.79268 457.198125 \nL 464.79268 84.443839 \nL 456.697903 84.443839 \nz\n\" style=\"fill:#008000;\"/>\n   </g>\n   <g id=\"patch_70\">\n    <path clip-path=\"url(#p807bcd3f41)\" d=\"M 497.17179 457.198125 \nL 505.266568 457.198125 \nL 505.266568 56.832411 \nL 497.17179 56.832411 \nz\n\" style=\"fill:#008000;\"/>\n   </g>\n   <g id=\"patch_71\">\n    <path clip-path=\"url(#p807bcd3f41)\" d=\"M 537.645678 457.198125 \nL 545.740456 457.198125 \nL 545.740456 56.832411 \nL 537.645678 56.832411 \nz\n\" style=\"fill:#008000;\"/>\n   </g>\n   <g id=\"patch_72\">\n    <path clip-path=\"url(#p807bcd3f41)\" d=\"M 578.119566 457.198125 \nL 586.214344 457.198125 \nL 586.214344 56.832411 \nL 578.119566 56.832411 \nz\n\" style=\"fill:#008000;\"/>\n   </g>\n   <g id=\"patch_73\">\n    <path clip-path=\"url(#p807bcd3f41)\" d=\"M 618.593454 457.198125 \nL 626.688231 457.198125 \nL 626.688231 56.832411 \nL 618.593454 56.832411 \nz\n\" style=\"fill:#008000;\"/>\n   </g>\n   <g id=\"patch_74\">\n    <path clip-path=\"url(#p807bcd3f41)\" d=\"M 659.067342 457.198125 \nL 667.162119 457.198125 \nL 667.162119 70.638125 \nL 659.067342 70.638125 \nz\n\" style=\"fill:#008000;\"/>\n   </g>\n   <g id=\"patch_75\">\n    <path clip-path=\"url(#p807bcd3f41)\" d=\"M 699.541229 457.198125 \nL 707.636007 457.198125 \nL 707.636007 56.832411 \nL 699.541229 56.832411 \nz\n\" style=\"fill:#008000;\"/>\n   </g>\n   <g id=\"patch_76\">\n    <path clip-path=\"url(#p807bcd3f41)\" d=\"M 740.015117 457.198125 \nL 748.109895 457.198125 \nL 748.109895 70.638125 \nL 740.015117 70.638125 \nz\n\" style=\"fill:#008000;\"/>\n   </g>\n   <g id=\"patch_77\">\n    <path clip-path=\"url(#p807bcd3f41)\" d=\"M 780.489005 457.198125 \nL 788.583783 457.198125 \nL 788.583783 56.832411 \nL 780.489005 56.832411 \nz\n\" style=\"fill:#008000;\"/>\n   </g>\n   <g id=\"patch_78\">\n    <path clip-path=\"url(#p807bcd3f41)\" d=\"M 820.962893 457.198125 \nL 829.05767 457.198125 \nL 829.05767 56.832411 \nL 820.962893 56.832411 \nz\n\" style=\"fill:#008000;\"/>\n   </g>\n   <g id=\"matplotlib.axis_1\">\n    <g id=\"xtick_1\">\n     <g id=\"line2d_1\">\n      <defs>\n       <path d=\"M 0 0 \nL 0 3.5 \n\" id=\"m40857cbd73\" style=\"stroke:#000000;stroke-width:0.8;\"/>\n      </defs>\n      <g>\n       <use style=\"stroke:#000000;stroke-width:0.8;\" x=\"80.290746\" xlink:href=\"#m40857cbd73\" y=\"457.198125\"/>\n      </g>\n     </g>\n     <g id=\"text_1\">\n      <!-- 18 -->\n      <defs>\n       <path d=\"M 12.40625 8.296875 \nL 28.515625 8.296875 \nL 28.515625 63.921875 \nL 10.984375 60.40625 \nL 10.984375 69.390625 \nL 28.421875 72.90625 \nL 38.28125 72.90625 \nL 38.28125 8.296875 \nL 54.390625 8.296875 \nL 54.390625 0 \nL 12.40625 0 \nz\n\" id=\"DejaVuSans-49\"/>\n       <path d=\"M 31.78125 34.625 \nQ 24.75 34.625 20.71875 30.859375 \nQ 16.703125 27.09375 16.703125 20.515625 \nQ 16.703125 13.921875 20.71875 10.15625 \nQ 24.75 6.390625 31.78125 6.390625 \nQ 38.8125 6.390625 42.859375 10.171875 \nQ 46.921875 13.96875 46.921875 20.515625 \nQ 46.921875 27.09375 42.890625 30.859375 \nQ 38.875 34.625 31.78125 34.625 \nz\nM 21.921875 38.8125 \nQ 15.578125 40.375 12.03125 44.71875 \nQ 8.5 49.078125 8.5 55.328125 \nQ 8.5 64.0625 14.71875 69.140625 \nQ 20.953125 74.21875 31.78125 74.21875 \nQ 42.671875 74.21875 48.875 69.140625 \nQ 55.078125 64.0625 55.078125 55.328125 \nQ 55.078125 49.078125 51.53125 44.71875 \nQ 48 40.375 41.703125 38.8125 \nQ 48.828125 37.15625 52.796875 32.3125 \nQ 56.78125 27.484375 56.78125 20.515625 \nQ 56.78125 9.90625 50.3125 4.234375 \nQ 43.84375 -1.421875 31.78125 -1.421875 \nQ 19.734375 -1.421875 13.25 4.234375 \nQ 6.78125 9.90625 6.78125 20.515625 \nQ 6.78125 27.484375 10.78125 32.3125 \nQ 14.796875 37.15625 21.921875 38.8125 \nz\nM 18.3125 54.390625 \nQ 18.3125 48.734375 21.84375 45.5625 \nQ 25.390625 42.390625 31.78125 42.390625 \nQ 38.140625 42.390625 41.71875 45.5625 \nQ 45.3125 48.734375 45.3125 54.390625 \nQ 45.3125 60.0625 41.71875 63.234375 \nQ 38.140625 66.40625 31.78125 66.40625 \nQ 25.390625 66.40625 21.84375 63.234375 \nQ 18.3125 60.0625 18.3125 54.390625 \nz\n\" id=\"DejaVuSans-56\"/>\n      </defs>\n      <g transform=\"translate(73.928246 471.796562)scale(0.1 -0.1)\">\n       <use xlink:href=\"#DejaVuSans-49\"/>\n       <use x=\"63.623047\" xlink:href=\"#DejaVuSans-56\"/>\n      </g>\n     </g>\n    </g>\n    <g id=\"xtick_2\">\n     <g id=\"line2d_2\">\n      <g>\n       <use style=\"stroke:#000000;stroke-width:0.8;\" x=\"120.764634\" xlink:href=\"#m40857cbd73\" y=\"457.198125\"/>\n      </g>\n     </g>\n     <g id=\"text_2\">\n      <!-- 28 -->\n      <defs>\n       <path d=\"M 19.1875 8.296875 \nL 53.609375 8.296875 \nL 53.609375 0 \nL 7.328125 0 \nL 7.328125 8.296875 \nQ 12.9375 14.109375 22.625 23.890625 \nQ 32.328125 33.6875 34.8125 36.53125 \nQ 39.546875 41.84375 41.421875 45.53125 \nQ 43.3125 49.21875 43.3125 52.78125 \nQ 43.3125 58.59375 39.234375 62.25 \nQ 35.15625 65.921875 28.609375 65.921875 \nQ 23.96875 65.921875 18.8125 64.3125 \nQ 13.671875 62.703125 7.8125 59.421875 \nL 7.8125 69.390625 \nQ 13.765625 71.78125 18.9375 73 \nQ 24.125 74.21875 28.421875 74.21875 \nQ 39.75 74.21875 46.484375 68.546875 \nQ 53.21875 62.890625 53.21875 53.421875 \nQ 53.21875 48.921875 51.53125 44.890625 \nQ 49.859375 40.875 45.40625 35.40625 \nQ 44.1875 33.984375 37.640625 27.21875 \nQ 31.109375 20.453125 19.1875 8.296875 \nz\n\" id=\"DejaVuSans-50\"/>\n      </defs>\n      <g transform=\"translate(114.402134 471.796562)scale(0.1 -0.1)\">\n       <use xlink:href=\"#DejaVuSans-50\"/>\n       <use x=\"63.623047\" xlink:href=\"#DejaVuSans-56\"/>\n      </g>\n     </g>\n    </g>\n    <g id=\"xtick_3\">\n     <g id=\"line2d_3\">\n      <g>\n       <use style=\"stroke:#000000;stroke-width:0.8;\" x=\"161.238522\" xlink:href=\"#m40857cbd73\" y=\"457.198125\"/>\n      </g>\n     </g>\n     <g id=\"text_3\">\n      <!-- 38 -->\n      <defs>\n       <path d=\"M 40.578125 39.3125 \nQ 47.65625 37.796875 51.625 33 \nQ 55.609375 28.21875 55.609375 21.1875 \nQ 55.609375 10.40625 48.1875 4.484375 \nQ 40.765625 -1.421875 27.09375 -1.421875 \nQ 22.515625 -1.421875 17.65625 -0.515625 \nQ 12.796875 0.390625 7.625 2.203125 \nL 7.625 11.71875 \nQ 11.71875 9.328125 16.59375 8.109375 \nQ 21.484375 6.890625 26.8125 6.890625 \nQ 36.078125 6.890625 40.9375 10.546875 \nQ 45.796875 14.203125 45.796875 21.1875 \nQ 45.796875 27.640625 41.28125 31.265625 \nQ 36.765625 34.90625 28.71875 34.90625 \nL 20.21875 34.90625 \nL 20.21875 43.015625 \nL 29.109375 43.015625 \nQ 36.375 43.015625 40.234375 45.921875 \nQ 44.09375 48.828125 44.09375 54.296875 \nQ 44.09375 59.90625 40.109375 62.90625 \nQ 36.140625 65.921875 28.71875 65.921875 \nQ 24.65625 65.921875 20.015625 65.03125 \nQ 15.375 64.15625 9.8125 62.3125 \nL 9.8125 71.09375 \nQ 15.4375 72.65625 20.34375 73.4375 \nQ 25.25 74.21875 29.59375 74.21875 \nQ 40.828125 74.21875 47.359375 69.109375 \nQ 53.90625 64.015625 53.90625 55.328125 \nQ 53.90625 49.265625 50.4375 45.09375 \nQ 46.96875 40.921875 40.578125 39.3125 \nz\n\" id=\"DejaVuSans-51\"/>\n      </defs>\n      <g transform=\"translate(154.876022 471.796562)scale(0.1 -0.1)\">\n       <use xlink:href=\"#DejaVuSans-51\"/>\n       <use x=\"63.623047\" xlink:href=\"#DejaVuSans-56\"/>\n      </g>\n     </g>\n    </g>\n    <g id=\"xtick_4\">\n     <g id=\"line2d_4\">\n      <g>\n       <use style=\"stroke:#000000;stroke-width:0.8;\" x=\"201.712409\" xlink:href=\"#m40857cbd73\" y=\"457.198125\"/>\n      </g>\n     </g>\n     <g id=\"text_4\">\n      <!-- 48 -->\n      <defs>\n       <path d=\"M 37.796875 64.3125 \nL 12.890625 25.390625 \nL 37.796875 25.390625 \nz\nM 35.203125 72.90625 \nL 47.609375 72.90625 \nL 47.609375 25.390625 \nL 58.015625 25.390625 \nL 58.015625 17.1875 \nL 47.609375 17.1875 \nL 47.609375 0 \nL 37.796875 0 \nL 37.796875 17.1875 \nL 4.890625 17.1875 \nL 4.890625 26.703125 \nz\n\" id=\"DejaVuSans-52\"/>\n      </defs>\n      <g transform=\"translate(195.349909 471.796562)scale(0.1 -0.1)\">\n       <use xlink:href=\"#DejaVuSans-52\"/>\n       <use x=\"63.623047\" xlink:href=\"#DejaVuSans-56\"/>\n      </g>\n     </g>\n    </g>\n    <g id=\"xtick_5\">\n     <g id=\"line2d_5\">\n      <g>\n       <use style=\"stroke:#000000;stroke-width:0.8;\" x=\"242.186297\" xlink:href=\"#m40857cbd73\" y=\"457.198125\"/>\n      </g>\n     </g>\n     <g id=\"text_5\">\n      <!-- 58 -->\n      <defs>\n       <path d=\"M 10.796875 72.90625 \nL 49.515625 72.90625 \nL 49.515625 64.59375 \nL 19.828125 64.59375 \nL 19.828125 46.734375 \nQ 21.96875 47.46875 24.109375 47.828125 \nQ 26.265625 48.1875 28.421875 48.1875 \nQ 40.625 48.1875 47.75 41.5 \nQ 54.890625 34.8125 54.890625 23.390625 \nQ 54.890625 11.625 47.5625 5.09375 \nQ 40.234375 -1.421875 26.90625 -1.421875 \nQ 22.3125 -1.421875 17.546875 -0.640625 \nQ 12.796875 0.140625 7.71875 1.703125 \nL 7.71875 11.625 \nQ 12.109375 9.234375 16.796875 8.0625 \nQ 21.484375 6.890625 26.703125 6.890625 \nQ 35.15625 6.890625 40.078125 11.328125 \nQ 45.015625 15.765625 45.015625 23.390625 \nQ 45.015625 31 40.078125 35.4375 \nQ 35.15625 39.890625 26.703125 39.890625 \nQ 22.75 39.890625 18.8125 39.015625 \nQ 14.890625 38.140625 10.796875 36.28125 \nz\n\" id=\"DejaVuSans-53\"/>\n      </defs>\n      <g transform=\"translate(235.823797 471.796562)scale(0.1 -0.1)\">\n       <use xlink:href=\"#DejaVuSans-53\"/>\n       <use x=\"63.623047\" xlink:href=\"#DejaVuSans-56\"/>\n      </g>\n     </g>\n    </g>\n    <g id=\"xtick_6\">\n     <g id=\"line2d_6\">\n      <g>\n       <use style=\"stroke:#000000;stroke-width:0.8;\" x=\"282.660185\" xlink:href=\"#m40857cbd73\" y=\"457.198125\"/>\n      </g>\n     </g>\n     <g id=\"text_6\">\n      <!-- 68 -->\n      <defs>\n       <path d=\"M 33.015625 40.375 \nQ 26.375 40.375 22.484375 35.828125 \nQ 18.609375 31.296875 18.609375 23.390625 \nQ 18.609375 15.53125 22.484375 10.953125 \nQ 26.375 6.390625 33.015625 6.390625 \nQ 39.65625 6.390625 43.53125 10.953125 \nQ 47.40625 15.53125 47.40625 23.390625 \nQ 47.40625 31.296875 43.53125 35.828125 \nQ 39.65625 40.375 33.015625 40.375 \nz\nM 52.59375 71.296875 \nL 52.59375 62.3125 \nQ 48.875 64.0625 45.09375 64.984375 \nQ 41.3125 65.921875 37.59375 65.921875 \nQ 27.828125 65.921875 22.671875 59.328125 \nQ 17.53125 52.734375 16.796875 39.40625 \nQ 19.671875 43.65625 24.015625 45.921875 \nQ 28.375 48.1875 33.59375 48.1875 \nQ 44.578125 48.1875 50.953125 41.515625 \nQ 57.328125 34.859375 57.328125 23.390625 \nQ 57.328125 12.15625 50.6875 5.359375 \nQ 44.046875 -1.421875 33.015625 -1.421875 \nQ 20.359375 -1.421875 13.671875 8.265625 \nQ 6.984375 17.96875 6.984375 36.375 \nQ 6.984375 53.65625 15.1875 63.9375 \nQ 23.390625 74.21875 37.203125 74.21875 \nQ 40.921875 74.21875 44.703125 73.484375 \nQ 48.484375 72.75 52.59375 71.296875 \nz\n\" id=\"DejaVuSans-54\"/>\n      </defs>\n      <g transform=\"translate(276.297685 471.796562)scale(0.1 -0.1)\">\n       <use xlink:href=\"#DejaVuSans-54\"/>\n       <use x=\"63.623047\" xlink:href=\"#DejaVuSans-56\"/>\n      </g>\n     </g>\n    </g>\n    <g id=\"xtick_7\">\n     <g id=\"line2d_7\">\n      <g>\n       <use style=\"stroke:#000000;stroke-width:0.8;\" x=\"323.134073\" xlink:href=\"#m40857cbd73\" y=\"457.198125\"/>\n      </g>\n     </g>\n     <g id=\"text_7\">\n      <!-- 78 -->\n      <defs>\n       <path d=\"M 8.203125 72.90625 \nL 55.078125 72.90625 \nL 55.078125 68.703125 \nL 28.609375 0 \nL 18.3125 0 \nL 43.21875 64.59375 \nL 8.203125 64.59375 \nz\n\" id=\"DejaVuSans-55\"/>\n      </defs>\n      <g transform=\"translate(316.771573 471.796562)scale(0.1 -0.1)\">\n       <use xlink:href=\"#DejaVuSans-55\"/>\n       <use x=\"63.623047\" xlink:href=\"#DejaVuSans-56\"/>\n      </g>\n     </g>\n    </g>\n    <g id=\"xtick_8\">\n     <g id=\"line2d_8\">\n      <g>\n       <use style=\"stroke:#000000;stroke-width:0.8;\" x=\"363.607961\" xlink:href=\"#m40857cbd73\" y=\"457.198125\"/>\n      </g>\n     </g>\n     <g id=\"text_8\">\n      <!-- 88 -->\n      <g transform=\"translate(357.245461 471.796562)scale(0.1 -0.1)\">\n       <use xlink:href=\"#DejaVuSans-56\"/>\n       <use x=\"63.623047\" xlink:href=\"#DejaVuSans-56\"/>\n      </g>\n     </g>\n    </g>\n    <g id=\"xtick_9\">\n     <g id=\"line2d_9\">\n      <g>\n       <use style=\"stroke:#000000;stroke-width:0.8;\" x=\"404.081848\" xlink:href=\"#m40857cbd73\" y=\"457.198125\"/>\n      </g>\n     </g>\n     <g id=\"text_9\">\n      <!-- 98 -->\n      <defs>\n       <path d=\"M 10.984375 1.515625 \nL 10.984375 10.5 \nQ 14.703125 8.734375 18.5 7.8125 \nQ 22.3125 6.890625 25.984375 6.890625 \nQ 35.75 6.890625 40.890625 13.453125 \nQ 46.046875 20.015625 46.78125 33.40625 \nQ 43.953125 29.203125 39.59375 26.953125 \nQ 35.25 24.703125 29.984375 24.703125 \nQ 19.046875 24.703125 12.671875 31.3125 \nQ 6.296875 37.9375 6.296875 49.421875 \nQ 6.296875 60.640625 12.9375 67.421875 \nQ 19.578125 74.21875 30.609375 74.21875 \nQ 43.265625 74.21875 49.921875 64.515625 \nQ 56.59375 54.828125 56.59375 36.375 \nQ 56.59375 19.140625 48.40625 8.859375 \nQ 40.234375 -1.421875 26.421875 -1.421875 \nQ 22.703125 -1.421875 18.890625 -0.6875 \nQ 15.09375 0.046875 10.984375 1.515625 \nz\nM 30.609375 32.421875 \nQ 37.25 32.421875 41.125 36.953125 \nQ 45.015625 41.5 45.015625 49.421875 \nQ 45.015625 57.28125 41.125 61.84375 \nQ 37.25 66.40625 30.609375 66.40625 \nQ 23.96875 66.40625 20.09375 61.84375 \nQ 16.21875 57.28125 16.21875 49.421875 \nQ 16.21875 41.5 20.09375 36.953125 \nQ 23.96875 32.421875 30.609375 32.421875 \nz\n\" id=\"DejaVuSans-57\"/>\n      </defs>\n      <g transform=\"translate(397.719348 471.796562)scale(0.1 -0.1)\">\n       <use xlink:href=\"#DejaVuSans-57\"/>\n       <use x=\"63.623047\" xlink:href=\"#DejaVuSans-56\"/>\n      </g>\n     </g>\n    </g>\n    <g id=\"xtick_10\">\n     <g id=\"line2d_10\">\n      <g>\n       <use style=\"stroke:#000000;stroke-width:0.8;\" x=\"444.555736\" xlink:href=\"#m40857cbd73\" y=\"457.198125\"/>\n      </g>\n     </g>\n     <g id=\"text_10\">\n      <!-- 108 -->\n      <defs>\n       <path d=\"M 31.78125 66.40625 \nQ 24.171875 66.40625 20.328125 58.90625 \nQ 16.5 51.421875 16.5 36.375 \nQ 16.5 21.390625 20.328125 13.890625 \nQ 24.171875 6.390625 31.78125 6.390625 \nQ 39.453125 6.390625 43.28125 13.890625 \nQ 47.125 21.390625 47.125 36.375 \nQ 47.125 51.421875 43.28125 58.90625 \nQ 39.453125 66.40625 31.78125 66.40625 \nz\nM 31.78125 74.21875 \nQ 44.046875 74.21875 50.515625 64.515625 \nQ 56.984375 54.828125 56.984375 36.375 \nQ 56.984375 17.96875 50.515625 8.265625 \nQ 44.046875 -1.421875 31.78125 -1.421875 \nQ 19.53125 -1.421875 13.0625 8.265625 \nQ 6.59375 17.96875 6.59375 36.375 \nQ 6.59375 54.828125 13.0625 64.515625 \nQ 19.53125 74.21875 31.78125 74.21875 \nz\n\" id=\"DejaVuSans-48\"/>\n      </defs>\n      <g transform=\"translate(435.011986 471.796562)scale(0.1 -0.1)\">\n       <use xlink:href=\"#DejaVuSans-49\"/>\n       <use x=\"63.623047\" xlink:href=\"#DejaVuSans-48\"/>\n       <use x=\"127.246094\" xlink:href=\"#DejaVuSans-56\"/>\n      </g>\n     </g>\n    </g>\n    <g id=\"xtick_11\">\n     <g id=\"line2d_11\">\n      <g>\n       <use style=\"stroke:#000000;stroke-width:0.8;\" x=\"485.029624\" xlink:href=\"#m40857cbd73\" y=\"457.198125\"/>\n      </g>\n     </g>\n     <g id=\"text_11\">\n      <!-- 118 -->\n      <g transform=\"translate(475.485874 471.796562)scale(0.1 -0.1)\">\n       <use xlink:href=\"#DejaVuSans-49\"/>\n       <use x=\"63.623047\" xlink:href=\"#DejaVuSans-49\"/>\n       <use x=\"127.246094\" xlink:href=\"#DejaVuSans-56\"/>\n      </g>\n     </g>\n    </g>\n    <g id=\"xtick_12\">\n     <g id=\"line2d_12\">\n      <g>\n       <use style=\"stroke:#000000;stroke-width:0.8;\" x=\"525.503512\" xlink:href=\"#m40857cbd73\" y=\"457.198125\"/>\n      </g>\n     </g>\n     <g id=\"text_12\">\n      <!-- 128 -->\n      <g transform=\"translate(515.959762 471.796562)scale(0.1 -0.1)\">\n       <use xlink:href=\"#DejaVuSans-49\"/>\n       <use x=\"63.623047\" xlink:href=\"#DejaVuSans-50\"/>\n       <use x=\"127.246094\" xlink:href=\"#DejaVuSans-56\"/>\n      </g>\n     </g>\n    </g>\n    <g id=\"xtick_13\">\n     <g id=\"line2d_13\">\n      <g>\n       <use style=\"stroke:#000000;stroke-width:0.8;\" x=\"565.9774\" xlink:href=\"#m40857cbd73\" y=\"457.198125\"/>\n      </g>\n     </g>\n     <g id=\"text_13\">\n      <!-- 138 -->\n      <g transform=\"translate(556.43365 471.796562)scale(0.1 -0.1)\">\n       <use xlink:href=\"#DejaVuSans-49\"/>\n       <use x=\"63.623047\" xlink:href=\"#DejaVuSans-51\"/>\n       <use x=\"127.246094\" xlink:href=\"#DejaVuSans-56\"/>\n      </g>\n     </g>\n    </g>\n    <g id=\"xtick_14\">\n     <g id=\"line2d_14\">\n      <g>\n       <use style=\"stroke:#000000;stroke-width:0.8;\" x=\"606.451287\" xlink:href=\"#m40857cbd73\" y=\"457.198125\"/>\n      </g>\n     </g>\n     <g id=\"text_14\">\n      <!-- 148 -->\n      <g transform=\"translate(596.907537 471.796562)scale(0.1 -0.1)\">\n       <use xlink:href=\"#DejaVuSans-49\"/>\n       <use x=\"63.623047\" xlink:href=\"#DejaVuSans-52\"/>\n       <use x=\"127.246094\" xlink:href=\"#DejaVuSans-56\"/>\n      </g>\n     </g>\n    </g>\n    <g id=\"xtick_15\">\n     <g id=\"line2d_15\">\n      <g>\n       <use style=\"stroke:#000000;stroke-width:0.8;\" x=\"646.925175\" xlink:href=\"#m40857cbd73\" y=\"457.198125\"/>\n      </g>\n     </g>\n     <g id=\"text_15\">\n      <!-- 158 -->\n      <g transform=\"translate(637.381425 471.796562)scale(0.1 -0.1)\">\n       <use xlink:href=\"#DejaVuSans-49\"/>\n       <use x=\"63.623047\" xlink:href=\"#DejaVuSans-53\"/>\n       <use x=\"127.246094\" xlink:href=\"#DejaVuSans-56\"/>\n      </g>\n     </g>\n    </g>\n    <g id=\"xtick_16\">\n     <g id=\"line2d_16\">\n      <g>\n       <use style=\"stroke:#000000;stroke-width:0.8;\" x=\"687.399063\" xlink:href=\"#m40857cbd73\" y=\"457.198125\"/>\n      </g>\n     </g>\n     <g id=\"text_16\">\n      <!-- 168 -->\n      <g transform=\"translate(677.855313 471.796562)scale(0.1 -0.1)\">\n       <use xlink:href=\"#DejaVuSans-49\"/>\n       <use x=\"63.623047\" xlink:href=\"#DejaVuSans-54\"/>\n       <use x=\"127.246094\" xlink:href=\"#DejaVuSans-56\"/>\n      </g>\n     </g>\n    </g>\n    <g id=\"xtick_17\">\n     <g id=\"line2d_17\">\n      <g>\n       <use style=\"stroke:#000000;stroke-width:0.8;\" x=\"727.872951\" xlink:href=\"#m40857cbd73\" y=\"457.198125\"/>\n      </g>\n     </g>\n     <g id=\"text_17\">\n      <!-- 178 -->\n      <g transform=\"translate(718.329201 471.796562)scale(0.1 -0.1)\">\n       <use xlink:href=\"#DejaVuSans-49\"/>\n       <use x=\"63.623047\" xlink:href=\"#DejaVuSans-55\"/>\n       <use x=\"127.246094\" xlink:href=\"#DejaVuSans-56\"/>\n      </g>\n     </g>\n    </g>\n    <g id=\"xtick_18\">\n     <g id=\"line2d_18\">\n      <g>\n       <use style=\"stroke:#000000;stroke-width:0.8;\" x=\"768.346839\" xlink:href=\"#m40857cbd73\" y=\"457.198125\"/>\n      </g>\n     </g>\n     <g id=\"text_18\">\n      <!-- 188 -->\n      <g transform=\"translate(758.803089 471.796562)scale(0.1 -0.1)\">\n       <use xlink:href=\"#DejaVuSans-49\"/>\n       <use x=\"63.623047\" xlink:href=\"#DejaVuSans-56\"/>\n       <use x=\"127.246094\" xlink:href=\"#DejaVuSans-56\"/>\n      </g>\n     </g>\n    </g>\n    <g id=\"xtick_19\">\n     <g id=\"line2d_19\">\n      <g>\n       <use style=\"stroke:#000000;stroke-width:0.8;\" x=\"808.820727\" xlink:href=\"#m40857cbd73\" y=\"457.198125\"/>\n      </g>\n     </g>\n     <g id=\"text_19\">\n      <!-- 198 -->\n      <g transform=\"translate(799.276977 471.796562)scale(0.1 -0.1)\">\n       <use xlink:href=\"#DejaVuSans-49\"/>\n       <use x=\"63.623047\" xlink:href=\"#DejaVuSans-57\"/>\n       <use x=\"127.246094\" xlink:href=\"#DejaVuSans-56\"/>\n      </g>\n     </g>\n    </g>\n   </g>\n   <g id=\"matplotlib.axis_2\">\n    <g id=\"ytick_1\">\n     <g id=\"line2d_20\">\n      <defs>\n       <path d=\"M 0 0 \nL -3.5 0 \n\" id=\"mbf44397e73\" style=\"stroke:#000000;stroke-width:0.8;\"/>\n      </defs>\n      <g>\n       <use style=\"stroke:#000000;stroke-width:0.8;\" x=\"30.103125\" xlink:href=\"#mbf44397e73\" y=\"457.198125\"/>\n      </g>\n     </g>\n     <g id=\"text_20\">\n      <!-- 0.0 -->\n      <defs>\n       <path d=\"M 10.6875 12.40625 \nL 21 12.40625 \nL 21 0 \nL 10.6875 0 \nz\n\" id=\"DejaVuSans-46\"/>\n      </defs>\n      <g transform=\"translate(7.2 460.997344)scale(0.1 -0.1)\">\n       <use xlink:href=\"#DejaVuSans-48\"/>\n       <use x=\"63.623047\" xlink:href=\"#DejaVuSans-46\"/>\n       <use x=\"95.410156\" xlink:href=\"#DejaVuSans-48\"/>\n      </g>\n     </g>\n    </g>\n    <g id=\"ytick_2\">\n     <g id=\"line2d_21\">\n      <g>\n       <use style=\"stroke:#000000;stroke-width:0.8;\" x=\"30.103125\" xlink:href=\"#mbf44397e73\" y=\"374.363839\"/>\n      </g>\n     </g>\n     <g id=\"text_21\">\n      <!-- 0.2 -->\n      <g transform=\"translate(7.2 378.163058)scale(0.1 -0.1)\">\n       <use xlink:href=\"#DejaVuSans-48\"/>\n       <use x=\"63.623047\" xlink:href=\"#DejaVuSans-46\"/>\n       <use x=\"95.410156\" xlink:href=\"#DejaVuSans-50\"/>\n      </g>\n     </g>\n    </g>\n    <g id=\"ytick_3\">\n     <g id=\"line2d_22\">\n      <g>\n       <use style=\"stroke:#000000;stroke-width:0.8;\" x=\"30.103125\" xlink:href=\"#mbf44397e73\" y=\"291.529554\"/>\n      </g>\n     </g>\n     <g id=\"text_22\">\n      <!-- 0.4 -->\n      <g transform=\"translate(7.2 295.328772)scale(0.1 -0.1)\">\n       <use xlink:href=\"#DejaVuSans-48\"/>\n       <use x=\"63.623047\" xlink:href=\"#DejaVuSans-46\"/>\n       <use x=\"95.410156\" xlink:href=\"#DejaVuSans-52\"/>\n      </g>\n     </g>\n    </g>\n    <g id=\"ytick_4\">\n     <g id=\"line2d_23\">\n      <g>\n       <use style=\"stroke:#000000;stroke-width:0.8;\" x=\"30.103125\" xlink:href=\"#mbf44397e73\" y=\"208.695268\"/>\n      </g>\n     </g>\n     <g id=\"text_23\">\n      <!-- 0.6 -->\n      <g transform=\"translate(7.2 212.494487)scale(0.1 -0.1)\">\n       <use xlink:href=\"#DejaVuSans-48\"/>\n       <use x=\"63.623047\" xlink:href=\"#DejaVuSans-46\"/>\n       <use x=\"95.410156\" xlink:href=\"#DejaVuSans-54\"/>\n      </g>\n     </g>\n    </g>\n    <g id=\"ytick_5\">\n     <g id=\"line2d_24\">\n      <g>\n       <use style=\"stroke:#000000;stroke-width:0.8;\" x=\"30.103125\" xlink:href=\"#mbf44397e73\" y=\"125.860982\"/>\n      </g>\n     </g>\n     <g id=\"text_24\">\n      <!-- 0.8 -->\n      <g transform=\"translate(7.2 129.660201)scale(0.1 -0.1)\">\n       <use xlink:href=\"#DejaVuSans-48\"/>\n       <use x=\"63.623047\" xlink:href=\"#DejaVuSans-46\"/>\n       <use x=\"95.410156\" xlink:href=\"#DejaVuSans-56\"/>\n      </g>\n     </g>\n    </g>\n    <g id=\"ytick_6\">\n     <g id=\"line2d_25\">\n      <g>\n       <use style=\"stroke:#000000;stroke-width:0.8;\" x=\"30.103125\" xlink:href=\"#mbf44397e73\" y=\"43.026696\"/>\n      </g>\n     </g>\n     <g id=\"text_25\">\n      <!-- 1.0 -->\n      <g transform=\"translate(7.2 46.825915)scale(0.1 -0.1)\">\n       <use xlink:href=\"#DejaVuSans-49\"/>\n       <use x=\"63.623047\" xlink:href=\"#DejaVuSans-46\"/>\n       <use x=\"95.410156\" xlink:href=\"#DejaVuSans-48\"/>\n      </g>\n     </g>\n    </g>\n   </g>\n   <g id=\"patch_79\">\n    <path d=\"M 30.103125 457.198125 \nL 30.103125 22.318125 \n\" style=\"fill:none;stroke:#000000;stroke-linecap:square;stroke-linejoin:miter;stroke-width:0.8;\"/>\n   </g>\n   <g id=\"patch_80\">\n    <path d=\"M 867.103125 457.198125 \nL 867.103125 22.318125 \n\" style=\"fill:none;stroke:#000000;stroke-linecap:square;stroke-linejoin:miter;stroke-width:0.8;\"/>\n   </g>\n   <g id=\"patch_81\">\n    <path d=\"M 30.103125 457.198125 \nL 867.103125 457.198125 \n\" style=\"fill:none;stroke:#000000;stroke-linecap:square;stroke-linejoin:miter;stroke-width:0.8;\"/>\n   </g>\n   <g id=\"patch_82\">\n    <path d=\"M 30.103125 22.318125 \nL 867.103125 22.318125 \n\" style=\"fill:none;stroke:#000000;stroke-linecap:square;stroke-linejoin:miter;stroke-width:0.8;\"/>\n   </g>\n   <g id=\"text_26\">\n    <!-- shouw the correct accuracy -->\n    <defs>\n     <path d=\"M 44.28125 53.078125 \nL 44.28125 44.578125 \nQ 40.484375 46.53125 36.375 47.5 \nQ 32.28125 48.484375 27.875 48.484375 \nQ 21.1875 48.484375 17.84375 46.4375 \nQ 14.5 44.390625 14.5 40.28125 \nQ 14.5 37.15625 16.890625 35.375 \nQ 19.28125 33.59375 26.515625 31.984375 \nL 29.59375 31.296875 \nQ 39.15625 29.25 43.1875 25.515625 \nQ 47.21875 21.78125 47.21875 15.09375 \nQ 47.21875 7.46875 41.1875 3.015625 \nQ 35.15625 -1.421875 24.609375 -1.421875 \nQ 20.21875 -1.421875 15.453125 -0.5625 \nQ 10.6875 0.296875 5.421875 2 \nL 5.421875 11.28125 \nQ 10.40625 8.6875 15.234375 7.390625 \nQ 20.0625 6.109375 24.8125 6.109375 \nQ 31.15625 6.109375 34.5625 8.28125 \nQ 37.984375 10.453125 37.984375 14.40625 \nQ 37.984375 18.0625 35.515625 20.015625 \nQ 33.0625 21.96875 24.703125 23.78125 \nL 21.578125 24.515625 \nQ 13.234375 26.265625 9.515625 29.90625 \nQ 5.8125 33.546875 5.8125 39.890625 \nQ 5.8125 47.609375 11.28125 51.796875 \nQ 16.75 56 26.8125 56 \nQ 31.78125 56 36.171875 55.265625 \nQ 40.578125 54.546875 44.28125 53.078125 \nz\n\" id=\"DejaVuSans-115\"/>\n     <path d=\"M 54.890625 33.015625 \nL 54.890625 0 \nL 45.90625 0 \nL 45.90625 32.71875 \nQ 45.90625 40.484375 42.875 44.328125 \nQ 39.84375 48.1875 33.796875 48.1875 \nQ 26.515625 48.1875 22.3125 43.546875 \nQ 18.109375 38.921875 18.109375 30.90625 \nL 18.109375 0 \nL 9.078125 0 \nL 9.078125 75.984375 \nL 18.109375 75.984375 \nL 18.109375 46.1875 \nQ 21.34375 51.125 25.703125 53.5625 \nQ 30.078125 56 35.796875 56 \nQ 45.21875 56 50.046875 50.171875 \nQ 54.890625 44.34375 54.890625 33.015625 \nz\n\" id=\"DejaVuSans-104\"/>\n     <path d=\"M 30.609375 48.390625 \nQ 23.390625 48.390625 19.1875 42.75 \nQ 14.984375 37.109375 14.984375 27.296875 \nQ 14.984375 17.484375 19.15625 11.84375 \nQ 23.34375 6.203125 30.609375 6.203125 \nQ 37.796875 6.203125 41.984375 11.859375 \nQ 46.1875 17.53125 46.1875 27.296875 \nQ 46.1875 37.015625 41.984375 42.703125 \nQ 37.796875 48.390625 30.609375 48.390625 \nz\nM 30.609375 56 \nQ 42.328125 56 49.015625 48.375 \nQ 55.71875 40.765625 55.71875 27.296875 \nQ 55.71875 13.875 49.015625 6.21875 \nQ 42.328125 -1.421875 30.609375 -1.421875 \nQ 18.84375 -1.421875 12.171875 6.21875 \nQ 5.515625 13.875 5.515625 27.296875 \nQ 5.515625 40.765625 12.171875 48.375 \nQ 18.84375 56 30.609375 56 \nz\n\" id=\"DejaVuSans-111\"/>\n     <path d=\"M 8.5 21.578125 \nL 8.5 54.6875 \nL 17.484375 54.6875 \nL 17.484375 21.921875 \nQ 17.484375 14.15625 20.5 10.265625 \nQ 23.53125 6.390625 29.59375 6.390625 \nQ 36.859375 6.390625 41.078125 11.03125 \nQ 45.3125 15.671875 45.3125 23.6875 \nL 45.3125 54.6875 \nL 54.296875 54.6875 \nL 54.296875 0 \nL 45.3125 0 \nL 45.3125 8.40625 \nQ 42.046875 3.421875 37.71875 1 \nQ 33.40625 -1.421875 27.6875 -1.421875 \nQ 18.265625 -1.421875 13.375 4.4375 \nQ 8.5 10.296875 8.5 21.578125 \nz\nM 31.109375 56 \nz\n\" id=\"DejaVuSans-117\"/>\n     <path d=\"M 4.203125 54.6875 \nL 13.1875 54.6875 \nL 24.421875 12.015625 \nL 35.59375 54.6875 \nL 46.1875 54.6875 \nL 57.421875 12.015625 \nL 68.609375 54.6875 \nL 77.59375 54.6875 \nL 63.28125 0 \nL 52.6875 0 \nL 40.921875 44.828125 \nL 29.109375 0 \nL 18.5 0 \nz\n\" id=\"DejaVuSans-119\"/>\n     <path id=\"DejaVuSans-32\"/>\n     <path d=\"M 18.3125 70.21875 \nL 18.3125 54.6875 \nL 36.8125 54.6875 \nL 36.8125 47.703125 \nL 18.3125 47.703125 \nL 18.3125 18.015625 \nQ 18.3125 11.328125 20.140625 9.421875 \nQ 21.96875 7.515625 27.59375 7.515625 \nL 36.8125 7.515625 \nL 36.8125 0 \nL 27.59375 0 \nQ 17.1875 0 13.234375 3.875 \nQ 9.28125 7.765625 9.28125 18.015625 \nL 9.28125 47.703125 \nL 2.6875 47.703125 \nL 2.6875 54.6875 \nL 9.28125 54.6875 \nL 9.28125 70.21875 \nz\n\" id=\"DejaVuSans-116\"/>\n     <path d=\"M 56.203125 29.59375 \nL 56.203125 25.203125 \nL 14.890625 25.203125 \nQ 15.484375 15.921875 20.484375 11.0625 \nQ 25.484375 6.203125 34.421875 6.203125 \nQ 39.59375 6.203125 44.453125 7.46875 \nQ 49.3125 8.734375 54.109375 11.28125 \nL 54.109375 2.78125 \nQ 49.265625 0.734375 44.1875 -0.34375 \nQ 39.109375 -1.421875 33.890625 -1.421875 \nQ 20.796875 -1.421875 13.15625 6.1875 \nQ 5.515625 13.8125 5.515625 26.8125 \nQ 5.515625 40.234375 12.765625 48.109375 \nQ 20.015625 56 32.328125 56 \nQ 43.359375 56 49.78125 48.890625 \nQ 56.203125 41.796875 56.203125 29.59375 \nz\nM 47.21875 32.234375 \nQ 47.125 39.59375 43.09375 43.984375 \nQ 39.0625 48.390625 32.421875 48.390625 \nQ 24.90625 48.390625 20.390625 44.140625 \nQ 15.875 39.890625 15.1875 32.171875 \nz\n\" id=\"DejaVuSans-101\"/>\n     <path d=\"M 48.78125 52.59375 \nL 48.78125 44.1875 \nQ 44.96875 46.296875 41.140625 47.34375 \nQ 37.3125 48.390625 33.40625 48.390625 \nQ 24.65625 48.390625 19.8125 42.84375 \nQ 14.984375 37.3125 14.984375 27.296875 \nQ 14.984375 17.28125 19.8125 11.734375 \nQ 24.65625 6.203125 33.40625 6.203125 \nQ 37.3125 6.203125 41.140625 7.25 \nQ 44.96875 8.296875 48.78125 10.40625 \nL 48.78125 2.09375 \nQ 45.015625 0.34375 40.984375 -0.53125 \nQ 36.96875 -1.421875 32.421875 -1.421875 \nQ 20.0625 -1.421875 12.78125 6.34375 \nQ 5.515625 14.109375 5.515625 27.296875 \nQ 5.515625 40.671875 12.859375 48.328125 \nQ 20.21875 56 33.015625 56 \nQ 37.15625 56 41.109375 55.140625 \nQ 45.0625 54.296875 48.78125 52.59375 \nz\n\" id=\"DejaVuSans-99\"/>\n     <path d=\"M 41.109375 46.296875 \nQ 39.59375 47.171875 37.8125 47.578125 \nQ 36.03125 48 33.890625 48 \nQ 26.265625 48 22.1875 43.046875 \nQ 18.109375 38.09375 18.109375 28.8125 \nL 18.109375 0 \nL 9.078125 0 \nL 9.078125 54.6875 \nL 18.109375 54.6875 \nL 18.109375 46.1875 \nQ 20.953125 51.171875 25.484375 53.578125 \nQ 30.03125 56 36.53125 56 \nQ 37.453125 56 38.578125 55.875 \nQ 39.703125 55.765625 41.0625 55.515625 \nz\n\" id=\"DejaVuSans-114\"/>\n     <path d=\"M 34.28125 27.484375 \nQ 23.390625 27.484375 19.1875 25 \nQ 14.984375 22.515625 14.984375 16.5 \nQ 14.984375 11.71875 18.140625 8.90625 \nQ 21.296875 6.109375 26.703125 6.109375 \nQ 34.1875 6.109375 38.703125 11.40625 \nQ 43.21875 16.703125 43.21875 25.484375 \nL 43.21875 27.484375 \nz\nM 52.203125 31.203125 \nL 52.203125 0 \nL 43.21875 0 \nL 43.21875 8.296875 \nQ 40.140625 3.328125 35.546875 0.953125 \nQ 30.953125 -1.421875 24.3125 -1.421875 \nQ 15.921875 -1.421875 10.953125 3.296875 \nQ 6 8.015625 6 15.921875 \nQ 6 25.140625 12.171875 29.828125 \nQ 18.359375 34.515625 30.609375 34.515625 \nL 43.21875 34.515625 \nL 43.21875 35.40625 \nQ 43.21875 41.609375 39.140625 45 \nQ 35.0625 48.390625 27.6875 48.390625 \nQ 23 48.390625 18.546875 47.265625 \nQ 14.109375 46.140625 10.015625 43.890625 \nL 10.015625 52.203125 \nQ 14.9375 54.109375 19.578125 55.046875 \nQ 24.21875 56 28.609375 56 \nQ 40.484375 56 46.34375 49.84375 \nQ 52.203125 43.703125 52.203125 31.203125 \nz\n\" id=\"DejaVuSans-97\"/>\n     <path d=\"M 32.171875 -5.078125 \nQ 28.375 -14.84375 24.75 -17.8125 \nQ 21.140625 -20.796875 15.09375 -20.796875 \nL 7.90625 -20.796875 \nL 7.90625 -13.28125 \nL 13.1875 -13.28125 \nQ 16.890625 -13.28125 18.9375 -11.515625 \nQ 21 -9.765625 23.484375 -3.21875 \nL 25.09375 0.875 \nL 2.984375 54.6875 \nL 12.5 54.6875 \nL 29.59375 11.921875 \nL 46.6875 54.6875 \nL 56.203125 54.6875 \nz\n\" id=\"DejaVuSans-121\"/>\n    </defs>\n    <g transform=\"translate(365.649375 16.318125)scale(0.12 -0.12)\">\n     <use xlink:href=\"#DejaVuSans-115\"/>\n     <use x=\"52.099609\" xlink:href=\"#DejaVuSans-104\"/>\n     <use x=\"115.478516\" xlink:href=\"#DejaVuSans-111\"/>\n     <use x=\"176.660156\" xlink:href=\"#DejaVuSans-117\"/>\n     <use x=\"240.039062\" xlink:href=\"#DejaVuSans-119\"/>\n     <use x=\"321.826172\" xlink:href=\"#DejaVuSans-32\"/>\n     <use x=\"353.613281\" xlink:href=\"#DejaVuSans-116\"/>\n     <use x=\"392.822266\" xlink:href=\"#DejaVuSans-104\"/>\n     <use x=\"456.201172\" xlink:href=\"#DejaVuSans-101\"/>\n     <use x=\"517.724609\" xlink:href=\"#DejaVuSans-32\"/>\n     <use x=\"549.511719\" xlink:href=\"#DejaVuSans-99\"/>\n     <use x=\"604.492188\" xlink:href=\"#DejaVuSans-111\"/>\n     <use x=\"665.673828\" xlink:href=\"#DejaVuSans-114\"/>\n     <use x=\"705.037109\" xlink:href=\"#DejaVuSans-114\"/>\n     <use x=\"743.900391\" xlink:href=\"#DejaVuSans-101\"/>\n     <use x=\"805.423828\" xlink:href=\"#DejaVuSans-99\"/>\n     <use x=\"860.404297\" xlink:href=\"#DejaVuSans-116\"/>\n     <use x=\"899.613281\" xlink:href=\"#DejaVuSans-32\"/>\n     <use x=\"931.400391\" xlink:href=\"#DejaVuSans-97\"/>\n     <use x=\"992.679688\" xlink:href=\"#DejaVuSans-99\"/>\n     <use x=\"1047.660156\" xlink:href=\"#DejaVuSans-99\"/>\n     <use x=\"1102.640625\" xlink:href=\"#DejaVuSans-117\"/>\n     <use x=\"1166.019531\" xlink:href=\"#DejaVuSans-114\"/>\n     <use x=\"1207.132812\" xlink:href=\"#DejaVuSans-97\"/>\n     <use x=\"1268.412109\" xlink:href=\"#DejaVuSans-99\"/>\n     <use x=\"1323.392578\" xlink:href=\"#DejaVuSans-121\"/>\n    </g>\n   </g>\n   <g id=\"legend_1\">\n    <g id=\"patch_83\">\n     <path d=\"M 773.184375 90.143125 \nL 860.103125 90.143125 \nQ 862.103125 90.143125 862.103125 88.143125 \nL 862.103125 29.318125 \nQ 862.103125 27.318125 860.103125 27.318125 \nL 773.184375 27.318125 \nQ 771.184375 27.318125 771.184375 29.318125 \nL 771.184375 88.143125 \nQ 771.184375 90.143125 773.184375 90.143125 \nz\n\" style=\"fill:#ffffff;opacity:0.8;stroke:#cccccc;stroke-linejoin:miter;\"/>\n    </g>\n    <g id=\"patch_84\">\n     <path d=\"M 775.184375 38.916562 \nL 795.184375 38.916562 \nL 795.184375 31.916562 \nL 775.184375 31.916562 \nz\n\" style=\"fill:#bfbf00;\"/>\n    </g>\n    <g id=\"text_27\">\n     <!-- train_knn -->\n     <defs>\n      <path d=\"M 9.421875 54.6875 \nL 18.40625 54.6875 \nL 18.40625 0 \nL 9.421875 0 \nz\nM 9.421875 75.984375 \nL 18.40625 75.984375 \nL 18.40625 64.59375 \nL 9.421875 64.59375 \nz\n\" id=\"DejaVuSans-105\"/>\n      <path d=\"M 54.890625 33.015625 \nL 54.890625 0 \nL 45.90625 0 \nL 45.90625 32.71875 \nQ 45.90625 40.484375 42.875 44.328125 \nQ 39.84375 48.1875 33.796875 48.1875 \nQ 26.515625 48.1875 22.3125 43.546875 \nQ 18.109375 38.921875 18.109375 30.90625 \nL 18.109375 0 \nL 9.078125 0 \nL 9.078125 54.6875 \nL 18.109375 54.6875 \nL 18.109375 46.1875 \nQ 21.34375 51.125 25.703125 53.5625 \nQ 30.078125 56 35.796875 56 \nQ 45.21875 56 50.046875 50.171875 \nQ 54.890625 44.34375 54.890625 33.015625 \nz\n\" id=\"DejaVuSans-110\"/>\n      <path d=\"M 50.984375 -16.609375 \nL 50.984375 -23.578125 \nL -0.984375 -23.578125 \nL -0.984375 -16.609375 \nz\n\" id=\"DejaVuSans-95\"/>\n      <path d=\"M 9.078125 75.984375 \nL 18.109375 75.984375 \nL 18.109375 31.109375 \nL 44.921875 54.6875 \nL 56.390625 54.6875 \nL 27.390625 29.109375 \nL 57.625 0 \nL 45.90625 0 \nL 18.109375 26.703125 \nL 18.109375 0 \nL 9.078125 0 \nz\n\" id=\"DejaVuSans-107\"/>\n     </defs>\n     <g transform=\"translate(803.184375 38.916562)scale(0.1 -0.1)\">\n      <use xlink:href=\"#DejaVuSans-116\"/>\n      <use x=\"39.208984\" xlink:href=\"#DejaVuSans-114\"/>\n      <use x=\"80.322266\" xlink:href=\"#DejaVuSans-97\"/>\n      <use x=\"141.601562\" xlink:href=\"#DejaVuSans-105\"/>\n      <use x=\"169.384766\" xlink:href=\"#DejaVuSans-110\"/>\n      <use x=\"232.763672\" xlink:href=\"#DejaVuSans-95\"/>\n      <use x=\"282.763672\" xlink:href=\"#DejaVuSans-107\"/>\n      <use x=\"340.673828\" xlink:href=\"#DejaVuSans-110\"/>\n      <use x=\"404.052734\" xlink:href=\"#DejaVuSans-110\"/>\n     </g>\n    </g>\n    <g id=\"patch_85\">\n     <path d=\"M 775.184375 53.872812 \nL 795.184375 53.872812 \nL 795.184375 46.872812 \nL 775.184375 46.872812 \nz\n\" style=\"fill:#ff0000;\"/>\n    </g>\n    <g id=\"text_28\">\n     <!-- train_wknn -->\n     <g transform=\"translate(803.184375 53.872812)scale(0.1 -0.1)\">\n      <use xlink:href=\"#DejaVuSans-116\"/>\n      <use x=\"39.208984\" xlink:href=\"#DejaVuSans-114\"/>\n      <use x=\"80.322266\" xlink:href=\"#DejaVuSans-97\"/>\n      <use x=\"141.601562\" xlink:href=\"#DejaVuSans-105\"/>\n      <use x=\"169.384766\" xlink:href=\"#DejaVuSans-110\"/>\n      <use x=\"232.763672\" xlink:href=\"#DejaVuSans-95\"/>\n      <use x=\"282.763672\" xlink:href=\"#DejaVuSans-119\"/>\n      <use x=\"364.550781\" xlink:href=\"#DejaVuSans-107\"/>\n      <use x=\"422.460938\" xlink:href=\"#DejaVuSans-110\"/>\n      <use x=\"485.839844\" xlink:href=\"#DejaVuSans-110\"/>\n     </g>\n    </g>\n    <g id=\"patch_86\">\n     <path d=\"M 775.184375 68.829062 \nL 795.184375 68.829062 \nL 795.184375 61.829062 \nL 775.184375 61.829062 \nz\n\" style=\"fill:#bf00bf;\"/>\n    </g>\n    <g id=\"text_29\">\n     <!-- test_knn -->\n     <g transform=\"translate(803.184375 68.829062)scale(0.1 -0.1)\">\n      <use xlink:href=\"#DejaVuSans-116\"/>\n      <use x=\"39.208984\" xlink:href=\"#DejaVuSans-101\"/>\n      <use x=\"100.732422\" xlink:href=\"#DejaVuSans-115\"/>\n      <use x=\"152.832031\" xlink:href=\"#DejaVuSans-116\"/>\n      <use x=\"192.041016\" xlink:href=\"#DejaVuSans-95\"/>\n      <use x=\"242.041016\" xlink:href=\"#DejaVuSans-107\"/>\n      <use x=\"299.951172\" xlink:href=\"#DejaVuSans-110\"/>\n      <use x=\"363.330078\" xlink:href=\"#DejaVuSans-110\"/>\n     </g>\n    </g>\n    <g id=\"patch_87\">\n     <path d=\"M 775.184375 83.785312 \nL 795.184375 83.785312 \nL 795.184375 76.785312 \nL 775.184375 76.785312 \nz\n\" style=\"fill:#008000;\"/>\n    </g>\n    <g id=\"text_30\">\n     <!-- test_wknn -->\n     <g transform=\"translate(803.184375 83.785312)scale(0.1 -0.1)\">\n      <use xlink:href=\"#DejaVuSans-116\"/>\n      <use x=\"39.208984\" xlink:href=\"#DejaVuSans-101\"/>\n      <use x=\"100.732422\" xlink:href=\"#DejaVuSans-115\"/>\n      <use x=\"152.832031\" xlink:href=\"#DejaVuSans-116\"/>\n      <use x=\"192.041016\" xlink:href=\"#DejaVuSans-95\"/>\n      <use x=\"242.041016\" xlink:href=\"#DejaVuSans-119\"/>\n      <use x=\"323.828125\" xlink:href=\"#DejaVuSans-107\"/>\n      <use x=\"381.738281\" xlink:href=\"#DejaVuSans-110\"/>\n      <use x=\"445.117188\" xlink:href=\"#DejaVuSans-110\"/>\n     </g>\n    </g>\n   </g>\n  </g>\n </g>\n <defs>\n  <clipPath id=\"p807bcd3f41\">\n   <rect height=\"434.88\" width=\"837\" x=\"30.103125\" y=\"22.318125\"/>\n  </clipPath>\n </defs>\n</svg>\n",
      "image/png": "[encoded data removed]"
     },
     "metadata": {
      "needs_background": "light"
     }
    }
   ],
   "source": [
    "plt.figure(1,[15,8])\n",
    "plt.title(\"shouw the correct accuracy\")\n",
    "num_list1 = [1,2,3,1]\n",
    "x =list(range(len(seedlist)))\n",
    "total_width, n = 0.8, 4\n",
    "width = total_width / n\n",
    " #tick_label = seedlist\n",
    "plt.bar(x, train_knn_correct, width=width, label='train_knn',fc = 'y')\n",
    "for i in range(len(x)):\n",
    "    x[i] = x[i] + width\n",
    "plt.bar(x, train_wknn_correct, width=width, label='train_wknn',tick_label = seedlist,fc = 'r')\n",
    "for i in range(len(x)):\n",
    "    x[i] = x[i] + width\n",
    "plt.bar(x, test_knn_correct, width=width, label='test_knn',fc = 'm')\n",
    "for i in range(len(x)):\n",
    "    x[i] = x[i] + width\n",
    "plt.bar(x, test_wknn_correct, width=width, label='test_wknn',fc = 'g')\n",
    "plt.legend()\n",
    "plt.show()"
   ]
  },
  {
   "cell_type": "code",
   "execution_count": null,
   "metadata": {},
   "outputs": [],
   "source": []
  }
 ]
}