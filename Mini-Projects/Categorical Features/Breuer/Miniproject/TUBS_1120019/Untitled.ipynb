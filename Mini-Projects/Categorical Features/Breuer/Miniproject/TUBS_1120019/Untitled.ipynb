{
 "cells": [
  {
   "cell_type": "code",
   "execution_count": 9,
   "metadata": {},
   "outputs": [
    {
     "name": "stdout",
     "output_type": "stream",
     "text": [
      "[[6 5 6 8]\n",
      " [2 8 8 1]\n",
      " [7 9 5 8]\n",
      " [8 1 1 2]\n",
      " [0 1 6 4]]\n",
      "the closest neigbohr is in  position: [1]\n",
      "and has the label [0]\n",
      "\n",
      "\n",
      "the closest neigbohr is in  position: [0]\n",
      "and has the label [0, 2]\n",
      "\n",
      "\n",
      "the closest neigbohr is in  position: [2]\n",
      "and has the label [0, 2, 2]\n",
      "\n",
      "\n",
      "the closest neigbohr is in  position: [3]\n",
      "and has the label [0, 2, 2, 1]\n",
      "\n",
      "\n",
      "the closest neigbohr is in  position: []\n"
     ]
    },
    {
     "ename": "TypeError",
     "evalue": "only size-1 arrays can be converted to Python scalars",
     "output_type": "error",
     "traceback": [
      "\u001b[1;31m---------------------------------------------------------------------------\u001b[0m",
      "\u001b[1;31mTypeError\u001b[0m                                 Traceback (most recent call last)",
      "\u001b[1;32m<ipython-input-9-8dd5928b1823>\u001b[0m in \u001b[0;36m<module>\u001b[1;34m\u001b[0m\n\u001b[0;32m     18\u001b[0m         \u001b[0mposition_closest_neighbor\u001b[0m \u001b[1;33m=\u001b[0m \u001b[0mnp\u001b[0m\u001b[1;33m.\u001b[0m\u001b[0margsort\u001b[0m\u001b[1;33m(\u001b[0m\u001b[0mX\u001b[0m\u001b[1;33m,\u001b[0m \u001b[0maxis\u001b[0m\u001b[1;33m=\u001b[0m\u001b[1;36m1\u001b[0m\u001b[1;33m)\u001b[0m\u001b[1;33m[\u001b[0m\u001b[0mi\u001b[0m\u001b[1;33m,\u001b[0m\u001b[0ma\u001b[0m\u001b[1;33m:\u001b[0m\u001b[0ma\u001b[0m\u001b[1;33m+\u001b[0m\u001b[1;36m1\u001b[0m\u001b[1;33m]\u001b[0m\u001b[1;33m\u001b[0m\u001b[1;33m\u001b[0m\u001b[0m\n\u001b[0;32m     19\u001b[0m         \u001b[0mprint\u001b[0m\u001b[1;33m(\u001b[0m\u001b[1;34m'the closest neigbohr is in  position:'\u001b[0m \u001b[1;33m,\u001b[0m \u001b[0mposition_closest_neighbor\u001b[0m\u001b[1;33m)\u001b[0m\u001b[1;33m\u001b[0m\u001b[1;33m\u001b[0m\u001b[0m\n\u001b[1;32m---> 20\u001b[1;33m         \u001b[0mclosest_y\u001b[0m\u001b[1;33m.\u001b[0m\u001b[0mappend\u001b[0m\u001b[1;33m(\u001b[0m\u001b[0mint\u001b[0m\u001b[1;33m(\u001b[0m\u001b[0my\u001b[0m\u001b[1;33m[\u001b[0m\u001b[0mposition_closest_neighbor\u001b[0m\u001b[1;33m]\u001b[0m\u001b[1;33m)\u001b[0m\u001b[1;33m)\u001b[0m\u001b[1;33m\u001b[0m\u001b[1;33m\u001b[0m\u001b[0m\n\u001b[0m\u001b[0;32m     21\u001b[0m         \u001b[0mprint\u001b[0m\u001b[1;33m(\u001b[0m\u001b[1;34m'and has the label'\u001b[0m\u001b[1;33m,\u001b[0m\u001b[0mclosest_y\u001b[0m\u001b[1;33m)\u001b[0m\u001b[1;33m\u001b[0m\u001b[1;33m\u001b[0m\u001b[0m\n\u001b[0;32m     22\u001b[0m         \u001b[0mprint\u001b[0m\u001b[1;33m(\u001b[0m\u001b[1;34m'\\n'\u001b[0m\u001b[1;33m)\u001b[0m\u001b[1;33m\u001b[0m\u001b[1;33m\u001b[0m\u001b[0m\n",
      "\u001b[1;31mTypeError\u001b[0m: only size-1 arrays can be converted to Python scalars"
     ]
    }
   ],
   "source": [
    "import numpy as np\n",
    "\n",
    "rng = np.random.RandomState(57)\n",
    "X = rng.randint(0, 10, (5,4))\n",
    "y = np.array([2,0,2,1,1])\n",
    "#print(X)\n",
    "#print(y)\n",
    "#print('\\n')\n",
    "k=5\n",
    "data = 4\n",
    "i=0\n",
    "print(X)\n",
    "y_pred = np.zeros(data)\n",
    "for i in range(data):\n",
    "    closest_y = []\n",
    "    \n",
    "    for a in range(k):\n",
    "        position_closest_neighbor = np.argsort(X, axis=1)[i,a:a+1]\n",
    "        print('the closest neigbohr is in  position:' , position_closest_neighbor)\n",
    "        closest_y.append(int(y[position_closest_neighbor]))\n",
    "        print('and has the label',closest_y)\n",
    "        print('\\n')\n",
    "    \n",
    "    y_pred[i]=max(closest_y,key=closest_y.count)\n",
    "\n",
    "\n"
   ]
  },
  {
   "cell_type": "code",
   "execution_count": null,
   "metadata": {},
   "outputs": [],
   "source": []
  }
 ],
 "metadata": {
  "kernelspec": {
   "display_name": "Python 3",
   "language": "python",
   "name": "python3"
  },
  "language_info": {
   "codemirror_mode": {
    "name": "ipython",
    "version": 3
   },
   "file_extension": ".py",
   "mimetype": "text/x-python",
   "name": "python",
   "nbconvert_exporter": "python",
   "pygments_lexer": "ipython3",
   "version": "3.8.5"
  }
 },
 "nbformat": 4,
 "nbformat_minor": 4
}
