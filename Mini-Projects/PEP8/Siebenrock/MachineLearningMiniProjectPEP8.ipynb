{
 "cells": [
  {
   "cell_type": "markdown",
   "metadata": {},
   "source": [
    "# Machine Learning Mini - Project: PEP 8"
   ]
  },
  {
   "cell_type": "markdown",
   "metadata": {},
   "source": [
    "## By Kristian Siebenrock"
   ]
  },
  {
   "cell_type": "markdown",
   "metadata": {},
   "source": [
    "### Structure:\n",
    "\n",
    "1. What is PEP 8?\n",
    "2. Why *should* it be used?\n",
    "3. Key Points\n",
    "4. When *shouldn't* it be used?\n",
    "5. Implementation\n",
    "6. References\n"
   ]
  },
  {
   "cell_type": "markdown",
   "metadata": {},
   "source": [
    "###  1. What Is PEP 8?"
   ]
  },
  {
   "cell_type": "markdown",
   "metadata": {},
   "source": [
    "PEP 8, sometimes written PEP8 or PEP-8, is a document containing guidelines and best practices for writing Python code. It was written in 2001 by Guido van Rossum, Barry Warsaw and Nick Coghlan. The main focus of PEP 8 is to improve the readability and consistency of Python code. [4]\n",
    "\n",
    "PEP stands for Python Enhancement Proposal, and is a document that describes the new features proposed for Python and records aspects of Python such as design and style for the community."
   ]
  },
  {
   "cell_type": "markdown",
   "metadata": {},
   "source": [
    "### 2. Why *Should* It be Used?"
   ]
  },
  {
   "cell_type": "code",
   "execution_count": 1,
   "metadata": {},
   "outputs": [
    {
     "name": "stdout",
     "output_type": "stream",
     "text": [
      "The Zen of Python, by Tim Peters\n",
      "\n",
      "Beautiful is better than ugly.\n",
      "Explicit is better than implicit.\n",
      "Simple is better than complex.\n",
      "Complex is better than complicated.\n",
      "Flat is better than nested.\n",
      "Sparse is better than dense.\n",
      "Readability counts.\n",
      "Special cases aren't special enough to break the rules.\n",
      "Although practicality beats purity.\n",
      "Errors should never pass silently.\n",
      "Unless explicitly silenced.\n",
      "In the face of ambiguity, refuse the temptation to guess.\n",
      "There should be one-- and preferably only one --obvious way to do it.\n",
      "Although that way may not be obvious at first unless you're Dutch.\n",
      "Now is better than never.\n",
      "Although never is often better than *right* now.\n",
      "If the implementation is hard to explain, it's a bad idea.\n",
      "If the implementation is easy to explain, it may be a good idea.\n",
      "Namespaces are one honking great idea -- let's do more of those!\n"
     ]
    }
   ],
   "source": [
    "import this"
   ]
  },
  {
   "cell_type": "markdown",
   "metadata": {},
   "source": [
    "One of Guido van Rossums' key insights is that **code is read much more often than it is written**. The guidelines described in PEP 8 are therefore intended to improve the readability of code and make it consistent across the wide spectrum of Python code. As The Zen of Python (PEP 20) says, **“Readability counts”** [1]. The Zen of Python is a collection of 19 guiding principles for writing computer programs that influenced the Python programming language. It was written in 1999 by software engineer Tim Peters. [2]\n",
    "\n",
    "Why should we adhere to PEP 8?\n",
    "\n",
    "1. Oftentimes, one spends hours or days working on a specific project. Once it is finished, it is rarely written again. It will, however, most definately be read again. Each time someone returns to that piece of code, they must be able to understand what it does and why it was written that way. Therefore, *readability is important*. If PEP 8 is followed, variables have been named well and it is ensured that there are enough spaces to make it easier to follow the logical steps in the code. You have also commented your code well. All this means that your code is easier to read and recall. As a beginner, following the rules of PEP 8 can make learning Python much easier. [3]\n",
    "\n",
    "\n",
    "2. Following PEP 8 is especially important if you are looking to work as a developer. Writing clear and readable code *shows professionalism* and will tell an employer that you understand how to structure your code well. [3]\n",
    "\n",
    "\n",
    "3. If you have more experience writing Python code, you may *need to collaborate* with others. Writing readable code is crucial here as other people need to read and understand your code. If you have guidelines that you follow and recognize, others can read your code more easily. [3]\n"
   ]
  },
  {
   "cell_type": "markdown",
   "metadata": {},
   "source": [
    "### 3. Key Points\n"
   ]
  },
  {
   "cell_type": "markdown",
   "metadata": {},
   "source": [
    "#### 3.1 Naming Conventions"
   ]
  },
  {
   "cell_type": "markdown",
   "metadata": {},
   "source": [
    "**\" Explicit is better than implicit \"**\n",
    "    - The Zen of Python [2]"
   ]
  },
  {
   "cell_type": "markdown",
   "metadata": {},
   "source": [
    "The choice of sensible names will save a lot of time and energy in the long run as the reader will be able to figure out, from the name, what a certain variable, function or class represents. By obiding by the naming conventions depicted in PEP 8, errors resulting from the use of inappropriate names can be avoided. "
   ]
  },
  {
   "cell_type": "markdown",
   "metadata": {},
   "source": [
    "The table below outlines some common naming styles in PEP 8 and when they should be used [4]: \n",
    "\n",
    "| Type | Naming Convention | Example |\n",
    "| :- | :- | :-|\n",
    "| Function | Use a lowercase word or words. Separate words with underscores. | function, my_function |\n",
    "| Variable | Use a lowercase single letter or word(s). Separate words with underscores. | x, var, my_variable |\n",
    "| Class | Start each word with a capital letter. Do NOT separate words with underscores (camel case) | Model, MyClass |\n",
    "| Method | Use a lowercase word or words. Separate words with underscores.  | class_method, method |\n",
    "| Constant | Use an uppercase single letter or word(s). Separate words with underscores.  | CONSTANT, MY_CONSTANT |\n",
    "| Module | Use a short, lowercase word(s). Separate words with underscores. | module.py, my_module.py |\n",
    "| Package | Use a short, lowercase word(s). Do NOT separate words with underscores | package, mypackage |"
   ]
  },
  {
   "cell_type": "markdown",
   "metadata": {},
   "source": [
    "The choice of letters and words for the names is also important in order to write readable code: "
   ]
  },
  {
   "cell_type": "markdown",
   "metadata": {},
   "source": [
    "<span style=\"color:red\">Never use l, O or I single letter names as they can easily be mistaken for 1 and 0 depending on the typeface</span>"
   ]
  },
  {
   "cell_type": "code",
   "execution_count": 1,
   "metadata": {},
   "outputs": [],
   "source": [
    "O = 2 # This may look like you are trying to reassign 2 to 0"
   ]
  },
  {
   "cell_type": "markdown",
   "metadata": {},
   "source": [
    "##### 3.1.1 Choosing Names"
   ]
  },
  {
   "cell_type": "markdown",
   "metadata": {},
   "source": [
    "Ideally, names should be chosen based on their representation. Therefore, descriptive names should be used. Always try to use concise but descriptive names when possible. [4]"
   ]
  },
  {
   "cell_type": "markdown",
   "metadata": {},
   "source": [
    "While it may be tempting to use simple, single-letter lowercase names when naming a variable (like x), it is not clear what it represents. Therefore, unless x is referring to an argument of a mathematical function, it should not be used. [4]"
   ]
  },
  {
   "cell_type": "code",
   "execution_count": 3,
   "metadata": {},
   "outputs": [
    {
     "name": "stdout",
     "output_type": "stream",
     "text": [
      "Siebenrock, Kristian\n"
     ]
    }
   ],
   "source": [
    "# Not recommended\n",
    "\n",
    "x = 'Kristian Siebenrock'\n",
    "y,z = x.split()\n",
    "print(z,y, sep=', ')"
   ]
  },
  {
   "cell_type": "code",
   "execution_count": 4,
   "metadata": {},
   "outputs": [
    {
     "name": "stdout",
     "output_type": "stream",
     "text": [
      "Siebenrock, Kristian\n"
     ]
    }
   ],
   "source": [
    "# Recommended\n",
    "\n",
    "name = 'Kristian Siebenrock'\n",
    "first_name, last_name = name.split()\n",
    "print(last_name, first_name, sep=', ')"
   ]
  },
  {
   "cell_type": "markdown",
   "metadata": {},
   "source": [
    "The same counts when choosing the name of a function. While it may seem logical, at first, to use 'hf' as an abbreviation for 'half', it may not be as clear to someone else reading the code."
   ]
  },
  {
   "cell_type": "code",
   "execution_count": 5,
   "metadata": {},
   "outputs": [],
   "source": [
    "# Not recommended\n",
    "\n",
    "def hf(x):\n",
    "    return x / 2"
   ]
  },
  {
   "cell_type": "code",
   "execution_count": 6,
   "metadata": {},
   "outputs": [],
   "source": [
    "# Recommended\n",
    "\n",
    "def divide_by_two(x):\n",
    "    return x / 2"
   ]
  },
  {
   "cell_type": "markdown",
   "metadata": {},
   "source": [
    "#### 3.2 Code Layout"
   ]
  },
  {
   "cell_type": "markdown",
   "metadata": {},
   "source": [
    "**\" Beautiful is better than ugly \"**\n",
    "- The Zen of Python [2]"
   ]
  },
  {
   "cell_type": "markdown",
   "metadata": {},
   "source": [
    "How code is laid out plays a huge role in how readable it is. In this regard, blank lines as well as maximum line length and line breaking should be chosen accordingly."
   ]
  },
  {
   "cell_type": "markdown",
   "metadata": {},
   "source": [
    "##### 3.2.1 Blank Lines"
   ]
  },
  {
   "cell_type": "markdown",
   "metadata": {},
   "source": [
    "Vertical whitespace can greatly improve the readability of code. Code that is bunched up together can feel quite overwhelming, especially if the reader didn't program it himself. On the other side, too many blank lines can make code look very sparse and the reader will have to scroll more than necessary. Therefore, the following guidlines defined by PEP 8 should be upheld:"
   ]
  },
  {
   "cell_type": "markdown",
   "metadata": {},
   "source": [
    "**1. Surround top-level functions and classes with two blank lines:**\n",
    "\n",
    "As top-level functions and classes should be fairly self-contained and should handle separate functionalities, therefore, it makes sense to include extra vertical space around them."
   ]
  },
  {
   "cell_type": "code",
   "execution_count": 3,
   "metadata": {},
   "outputs": [],
   "source": [
    "class ClassOne:\n",
    "    pass\n",
    "\n",
    "\n",
    "class ClassTwo:\n",
    "    pass\n",
    "\n",
    "\n",
    "def a_top_level_function():\n",
    "    return None\n"
   ]
  },
  {
   "cell_type": "markdown",
   "metadata": {},
   "source": [
    "**2. Surround method definitions inside classes with a single blank line:**\n",
    "\n",
    "Inside a class, functions are related to one another. Nevertheless, a single line between functions should be included."
   ]
  },
  {
   "cell_type": "code",
   "execution_count": null,
   "metadata": {},
   "outputs": [],
   "source": [
    "class ClassTwo:\n",
    "    def method_one(self):\n",
    "        return None\n",
    "    \n",
    "    def method_two(self):\n",
    "        return None\n",
    "    "
   ]
  },
  {
   "cell_type": "markdown",
   "metadata": {},
   "source": [
    "**3. Use blank lines sparingly inside functions to depict steps:**\n",
    "\n",
    "Sometimes, a function must complete multiple steps before the return statement. To ensure that the reader understands the logic behind each step, it can be helpful to leave a blank line between each step. Breaking up code can also help the reader understand how certain sections relate to one another."
   ]
  },
  {
   "cell_type": "code",
   "execution_count": null,
   "metadata": {},
   "outputs": [],
   "source": [
    "# This function is difficult to read\n",
    "\n",
    "def calculate_variance(number_list):\n",
    "    sum_list = 0\n",
    "    for number in number_list:\n",
    "        sum_list = sum_list + number\n",
    "    mean = sum_list / len(number_list)\n",
    "    sum_squares = 0\n",
    "    for number in number_list:\n",
    "        sum_squares = sum_squares + number**2\n",
    "    mean_squares = sum_squares / len(number_list)\n",
    "    return mean_squares - mean**2"
   ]
  },
  {
   "cell_type": "code",
   "execution_count": null,
   "metadata": {},
   "outputs": [],
   "source": [
    "# This function is much easier to read\n",
    "\n",
    "def calculate_variance(number_list):\n",
    "    sum_list = 0\n",
    "    for number in number_list:\n",
    "        sum_list = sum_list + number\n",
    "    mean = sum_list / len(number_list)\n",
    "\n",
    "    sum_squares = 0\n",
    "    for number in number_list:\n",
    "        sum_squares = sum_squares + number**2\n",
    "    mean_squares = sum_squares / len(number_list)\n",
    "\n",
    "    return mean_squares - mean**2"
   ]
  },
  {
   "cell_type": "markdown",
   "metadata": {},
   "source": [
    "##### 3.2.2 Maximum Line Length and Line Breaking"
   ]
  },
  {
   "cell_type": "markdown",
   "metadata": {},
   "source": [
    "PEP 8 suggests that lines should be limited to 79 characters as this allows you to have multiple files open next to one another, while also avoiding line wrapping.\n",
    "\n",
    "It is, however, no always possible to keep statements to 79 characters or less. For these cases, PEP 8 also outlines formatting rules for statements to run over several lines."
   ]
  },
  {
   "cell_type": "markdown",
   "metadata": {},
   "source": [
    "**Implied Continuation**\n",
    "\n",
    "Python will assume line continuation if code is continued within parenthesis, brakets or braces."
   ]
  },
  {
   "cell_type": "code",
   "execution_count": 7,
   "metadata": {},
   "outputs": [],
   "source": [
    "def implied_continuation(arg_one, arg_two,\n",
    "                         arg_three, arg_four):\n",
    "    return arg_one"
   ]
  },
  {
   "cell_type": "markdown",
   "metadata": {},
   "source": [
    "If implied continuation is not possible, then the following rules should be adhered by:"
   ]
  },
  {
   "cell_type": "markdown",
   "metadata": {},
   "source": [
    "1. Use backslashes to break lines:"
   ]
  },
  {
   "cell_type": "code",
   "execution_count": null,
   "metadata": {},
   "outputs": [],
   "source": [
    "from mypkg import example1, \\\n",
    "    example2, example3"
   ]
  },
  {
   "cell_type": "markdown",
   "metadata": {},
   "source": [
    "2. Break lines before binary operators:\n",
    "\n",
    "This rule stems from mathematics as breaking lines before binary operators improves readability. Looking at the two examples below, it is immediately visible, at the first example, which variable is being added or subtracted. This is because the operator is right next to the variable being operated on. In the second example, however, it is not as easy to see. It must be said that code that ***consistently*** breaks after a binary operator is still PEP 8 compliant, as consistency is key in PEP 8."
   ]
  },
  {
   "cell_type": "code",
   "execution_count": null,
   "metadata": {},
   "outputs": [],
   "source": [
    "# Recommended\n",
    "\n",
    "total = (variable_one\n",
    "         + variable_two\n",
    "         - variable_three)"
   ]
  },
  {
   "cell_type": "code",
   "execution_count": null,
   "metadata": {},
   "outputs": [],
   "source": [
    "# Not Recommended\n",
    "\n",
    "total = (variable_one +\n",
    "         variable_two - \n",
    "         variable_three)"
   ]
  },
  {
   "cell_type": "markdown",
   "metadata": {},
   "source": [
    "#### 3.3 Indentation"
   ]
  },
  {
   "cell_type": "markdown",
   "metadata": {},
   "source": [
    "**\"There should be one—and preferably only one—obvious way to do it.\"**\n",
    "- The Zen of Python [2]"
   ]
  },
  {
   "cell_type": "markdown",
   "metadata": {},
   "source": [
    "Indentation is also known as leading whitespace and has a deciding role in Python. The indentation level of lines of code in Python determines how statements are grouped together. According to PEP 8, there are two key indentation rules that should be adhered by:\n",
    "\n",
    "   1. Prefer spaces over tabs\n",
    "   2. Use 4 consecutive spaces to indicate indentation\n"
   ]
  },
  {
   "cell_type": "markdown",
   "metadata": {},
   "source": [
    "##### 3.3.1 Tabs vs. Spaces"
   ]
  },
  {
   "cell_type": "markdown",
   "metadata": {},
   "source": [
    "As mentioned above, spaces are the preferred indentation method. Therefore, tabs should be used solely to remain consistent with code that is already indented with tabs. \n",
    "\n",
    "It is possible, however, to adjust the settings of the text editor in order to output 4 spaces instead of a tab character, when pressing the 'Tab' key. In Jupyter Notebook, this is the default indentation setting. If this shouldn't be the case, use the following example to restore the notebook's default indentation:"
   ]
  },
  {
   "cell_type": "code",
   "execution_count": null,
   "metadata": {},
   "outputs": [],
   "source": [
    "var cell = Jupyter.notebook.get_selected_cell();\n",
    "var config = cell.config;\n",
    "var patch = {\n",
    "      CodeCell:{\n",
    "        cm_config:{indentUnit: null} // only change here.\n",
    "      }\n",
    "    }\n",
    "config.update(patch)"
   ]
  },
  {
   "cell_type": "markdown",
   "metadata": {},
   "source": [
    "In order to restore a notebook frontend preferance to its default value of 4 spaces, enter the code above into your JavaScript console. [5]"
   ]
  },
  {
   "cell_type": "markdown",
   "metadata": {},
   "source": [
    "If a mixture of tabs and spaces has been used while programming in Python 2, no errors will arise when running the code. In order to check before running, it is possible to add a '-t' flag when running Python 2 code from the command line. Once doing so, the interpreter will issue warnings if inconsistencies are apparent. By using the '-tt' flag, the interpreter will issue errors instead of warnings."
   ]
  },
  {
   "cell_type": "markdown",
   "metadata": {},
   "source": [
    "$ python2 -t code.py\n",
    "\n",
    "$ python2 -tt code.py    "
   ]
  },
  {
   "cell_type": "markdown",
   "metadata": {},
   "source": [
    "Python 3, however does not allow a mixture of tabs and spaces as errors will arise automatically. It is possible to use either tabs or spaces indicating indentation, however PEP 8 recommends the use of 4 consecutive spaces."
   ]
  },
  {
   "cell_type": "markdown",
   "metadata": {},
   "source": [
    "##### 3.3.2 Indentation following line breaks"
   ]
  },
  {
   "cell_type": "markdown",
   "metadata": {},
   "source": [
    "When trying to keep lines of code under 79 characters, it is oftentimes useful to use indentation in order to improve readability. This allows the reader to distinguish between two lines of code and a single line of code that spans two lines. PEP 8 provides two possible methods of indentation:\n"
   ]
  },
  {
   "cell_type": "markdown",
   "metadata": {},
   "source": [
    "   1. Align the indented block with the opening delimeter:"
   ]
  },
  {
   "cell_type": "code",
   "execution_count": 8,
   "metadata": {},
   "outputs": [],
   "source": [
    "def function(arg_one, arg_two,\n",
    "             arg_three, arg_four):\n",
    "    return arg_one"
   ]
  },
  {
   "cell_type": "markdown",
   "metadata": {},
   "source": [
    "However, sometimes only four spaces are necessary to align with the opening delimiter. This will oftentimes occur in 'if' statements that span multiple lines. In this case, it can be difficult to distinguish the nested code block from the 'if' statement."
   ]
  },
  {
   "cell_type": "code",
   "execution_count": 9,
   "metadata": {},
   "outputs": [
    {
     "name": "stdout",
     "output_type": "stream",
     "text": [
      "5\n"
     ]
    }
   ],
   "source": [
    "x = 5\n",
    "if (x > 3 and\n",
    "    x < 10):\n",
    "    print(x)"
   ]
  },
  {
   "cell_type": "markdown",
   "metadata": {},
   "source": [
    "In this case, PEP 8 provides two alternatives to improve readability:"
   ]
  },
  {
   "cell_type": "code",
   "execution_count": 11,
   "metadata": {},
   "outputs": [
    {
     "name": "stdout",
     "output_type": "stream",
     "text": [
      "5\n",
      "5\n"
     ]
    }
   ],
   "source": [
    "# Add a comment after the final condition. Syntax highlighting will separate the conditions from the nested code.\n",
    "\n",
    "x = 5\n",
    "if (x > 3 and\n",
    "    x < 10):\n",
    "    #Both conditions are met\n",
    "    print(x)\n",
    "    \n",
    "# Add extra indentation on the line continuation:\n",
    "\n",
    "x = 5\n",
    "if (x > 3 and\n",
    "        x < 10):\n",
    "    print(x)"
   ]
  },
  {
   "cell_type": "markdown",
   "metadata": {},
   "source": [
    "   2. Hanging Indent:"
   ]
  },
  {
   "cell_type": "markdown",
   "metadata": {},
   "source": [
    "An alternative style of indentation is a hanging indent. This means that every line apart from the first in a paragraph or statement is indented. It is important, however, that there aren't any arguments on the first line, when applying a hanging indent."
   ]
  },
  {
   "cell_type": "code",
   "execution_count": 15,
   "metadata": {},
   "outputs": [],
   "source": [
    "# Not allowed:\n",
    "\n",
    "var = function(arg_one, arg_two,\n",
    "    arg_three, arg_four)\n",
    "\n",
    "# Allowed:\n",
    "\n",
    "var = function(\n",
    "    arg_one, arg_two,\n",
    "    arg_three, arg_four)"
   ]
  },
  {
   "cell_type": "markdown",
   "metadata": {},
   "source": [
    "Line continuation also allows to break lines inside parenthesis, brackets or braces. PEP 8 provides two options for the position of the closing brace in imlied line continuation:\n"
   ]
  },
  {
   "cell_type": "code",
   "execution_count": 16,
   "metadata": {},
   "outputs": [],
   "source": [
    "# 1. Line up the closing brace with the first non-whitespace character of the previous line:\n",
    "\n",
    "list_of_numbers = [\n",
    "    1, 2, 3,\n",
    "    4, 5, 6,\n",
    "    7, 8, 9\n",
    "    ]\n",
    "\n",
    "# 2. Line up the closing brace with the first character of the line that starts the construct:\n",
    "\n",
    "list_of_numbers = [\n",
    "    1, 2, 3,\n",
    "    4, 5, 6,\n",
    "    7, 8, 9\n",
    "]"
   ]
  },
  {
   "cell_type": "markdown",
   "metadata": {},
   "source": [
    "#### 3.4 Comments"
   ]
  },
  {
   "cell_type": "markdown",
   "metadata": {},
   "source": [
    "**\"If the implementation is hard to explain, it’s a bad idea.\"**\n",
    "- The Zen of Python [2]"
   ]
  },
  {
   "cell_type": "markdown",
   "metadata": {},
   "source": [
    "Comments should be used to document code as it is written, in order to ensure that the code is understandable. PEP 8 provides guidelines that should be adhered to while adding comments:\n",
    "\n",
    "   1. Limit the line length of comments and docstrings to 72 characters\n",
    "   2. Use complete sentences, starting with a capital letter\n",
    "   3. Make sure to update comments if the code is changed\n",
    "   \n",
    "It is also important to mention that coders from non-English speaking countries must still write their comments in English, unless it is very unlikely that the code will never be read by people who do not speak the specific language. "
   ]
  },
  {
   "cell_type": "markdown",
   "metadata": {},
   "source": [
    "##### 3.4.1 Block Comments"
   ]
  },
  {
   "cell_type": "markdown",
   "metadata": {},
   "source": [
    "Block comments should be used to document a small section of code and are useful when several lines of code need to be written to perform a single action. \n",
    "\n",
    "PEP 8 provides the following rules for writing block comments:\n",
    "\n",
    "   1. Indent block comments to the same level as the code they describe\n",
    "   2. Start each line with a # followed by a single space\n",
    "   3. Separate paragraphs by a line containing a single #"
   ]
  },
  {
   "cell_type": "code",
   "execution_count": null,
   "metadata": {},
   "outputs": [],
   "source": [
    "# Example 1: Wrap the comment to a new line to preserve the 79 character line limit.\n",
    "\n",
    "for i in range(0, 10):\n",
    "    # Loop over i ten times and print out the value of i, followed by a\n",
    "    # new line character\n",
    "    print(i, '\\n')\n",
    "    \n",
    "# Example 2: For technical code it is necessary to include more than one paragraph in a block comment.\n",
    "\n",
    "def quadratic(a, b, c, x):\n",
    "    # Calculate the solution to a quadratic equation using the quadratic\n",
    "    # formula.\n",
    "    #\n",
    "    # There are always two solutions to a quadratic equation, x_1 and x_2.\n",
    "    x_1 = (- b+(b**2-4*a*c)**(1/2)) / (2*a)\n",
    "    x_2 = (- b-(b**2-4*a*c)**(1/2)) / (2*a)\n",
    "    return x_1, x_2"
   ]
  },
  {
   "cell_type": "markdown",
   "metadata": {},
   "source": [
    "##### 3.4.2 Inline Comments\n"
   ]
  },
  {
   "cell_type": "markdown",
   "metadata": {},
   "source": [
    "Inline comments explain a single statement in a piece of code. \n",
    "\n",
    "PEP 8 provides the following rules for writing inline comments:\n",
    "\n",
    "   1. Use inline comments sparingly\n",
    "   2. Write inline comments on the same line as the statement they refer to.\n",
    "   3. Separate inline comments by two or more spaces from the statement\n",
    "   4. Start inline comments with a # and a single space, similar to block comments\n",
    "   5. Do not use them to explain the obvious."
   ]
  },
  {
   "cell_type": "code",
   "execution_count": 17,
   "metadata": {},
   "outputs": [],
   "source": [
    "# Example 1: Inline comments can sometimes be substituted by the use of better naming conventions\n",
    "\n",
    "x = 'John Smith'  # Student Name\n",
    "\n",
    "student_name = 'John Smith'\n",
    "\n",
    "# Example 2: Inline comments should not state the obvius\n",
    "\n",
    "empty_list = []  # Initialize empty list\n",
    "\n",
    "x = 5\n",
    "x *= 5  # Multiply x by 5"
   ]
  },
  {
   "cell_type": "markdown",
   "metadata": {},
   "source": [
    "##### 3.4.3 Documentation Strings"
   ]
  },
  {
   "cell_type": "markdown",
   "metadata": {},
   "source": [
    "Documentation strings are strings enclosed int double (\"\"\") or single (''') quotation marks that appear on the first line of any function, class, method or module. They can be used to explain and document a specific block of code. They are, however, further described in PEP 257 [6].\n",
    "\n",
    "PEP 8 provides the follwing rules for using documentation strings:\n",
    "\n",
    "   1. Surround docstrings with three double quotes on either side.\n",
    "   2. Write them for all public modules, functions, classes and methods\n",
    "   3. Put the \"\"\" that ends a multiline docstring on a line by itself"
   ]
  },
  {
   "cell_type": "code",
   "execution_count": 18,
   "metadata": {},
   "outputs": [],
   "source": [
    "# Example 1: \n",
    "\n",
    "def quadratic(a, b, c, x):\n",
    "    \"\"\"Solve quadratic equation via the quadratic formula.\n",
    "\n",
    "    A quadratic equation has the following form:\n",
    "    ax**2 + bx + c = 0\n",
    "\n",
    "    There always two solutions to a quadratic equation: x_1 & x_2.\n",
    "    \"\"\"\n",
    "    x_1 = (- b+(b**2-4*a*c)**(1/2)) / (2*a)\n",
    "    x_2 = (- b-(b**2-4*a*c)**(1/2)) / (2*a)\n",
    "\n",
    "    return x_1, x_2\n",
    "\n",
    "\n",
    "# Example 2: \n",
    "\n",
    "def quadratic(a, b, c, x):\n",
    "    \"\"\"Use the quadratic formula\"\"\"\n",
    "    x_1 = (- b+(b**2-4*a*c)**(1/2)) / (2*a)\n",
    "    x_2 = (- b-(b**2-4*a*c)**(1/2)) / (2*a)\n",
    "\n",
    "    return x_1, x_2"
   ]
  },
  {
   "cell_type": "markdown",
   "metadata": {},
   "source": [
    "#### 3.5 Whitespace"
   ]
  },
  {
   "cell_type": "markdown",
   "metadata": {},
   "source": [
    "**\"Sparse is better than dense.\"**\n",
    "- The Zen of Python [2]"
   ]
  },
  {
   "cell_type": "markdown",
   "metadata": {},
   "source": [
    "Whitespace can be very helpful when used properly. If there is not enough, the code can be difficult to read, whereas if there is too much, it can be difficult to visually combine related terms in a statement."
   ]
  },
  {
   "cell_type": "markdown",
   "metadata": {},
   "source": [
    "##### 3.5.1 Whitespace Around Binary Operators"
   ]
  },
  {
   "cell_type": "markdown",
   "metadata": {},
   "source": [
    "PEP 8 provides rules regarding which binary operators are to be surrounded by whitespace:\n",
    "\n",
    "   1. Assignment operators (=, +=, -=, ...)\n",
    "   2. Comparisons (==, !=, >, <, >=, <=) and (is, is not, in, not in)\n",
    "   3. Booleans (and, not, or)\n",
    "   \n",
    "(However, = should not be surrounded with whitespace when it is used to assign a default value to a function argument. )\n",
    "\n",
    "PEP 8 also mentions other rules that should be adhered by:\n"
   ]
  },
  {
   "cell_type": "code",
   "execution_count": 20,
   "metadata": {},
   "outputs": [],
   "source": [
    "# Only add whitespace to operators with the lowest priority, especially when performing mathematical manipulation.\n",
    "\n",
    "# Recommended: \n",
    "y = x**2 + 5\n",
    "z = (x+y) * (x-y)\n",
    "\n",
    "# Not recommended:\n",
    "y = x ** 2 + 5\n",
    "z = (x + y) * (x - y)\n",
    "\n",
    "# Recommended:\n",
    "if x>5 and x%2==0:\n",
    "    print('x is larger than 5 and divisible by 2!')\n",
    "\n",
    "#Not recommended:\n",
    "if x > 5 and x % 2 == 0:\n",
    "    print('x is larger than 5 and divisible by 2!')\n",
    "    \n",
    "# There must, however, be the same amount of whitespace on both sides of the operator\n",
    "\n",
    "# Not recommended:\n",
    "if x >5 and x% 2== 0:\n",
    "    print('x is larger than 5 and divisible by 2!')\n"
   ]
  },
  {
   "cell_type": "code",
   "execution_count": null,
   "metadata": {},
   "outputs": [],
   "source": [
    "# In slices, colons act as binary operators. Therefore, the same rules apply and there should be the same amount\n",
    "# of whitespace on both sides. \n",
    "\n",
    "\n",
    "# Recommended:\n",
    "\n",
    "list[3:4]\n",
    "\n",
    "# Treat the colon as the operator with lowest priority\n",
    "list[x+1 : x+2]\n",
    "\n",
    "# In an extended slice, both colons must be\n",
    "# surrounded by the same amount of whitespace\n",
    "list[3:4:5]\n",
    "list[x+1 : x+2 : x+3]\n",
    "\n",
    "# The space is omitted if a slice parameter is omitted\n",
    "list[x+1 : x+2 :]"
   ]
  },
  {
   "cell_type": "markdown",
   "metadata": {},
   "source": [
    "##### 3.5.2 When to Avoid Adding Whitespace"
   ]
  },
  {
   "cell_type": "markdown",
   "metadata": {},
   "source": [
    "In some cases, adding whitespace can make code difficult to read. Therefore, PEP 8 outlines very clear exmaples where whitespace is inappropriate.\n",
    "\n",
    "However, it must be said that the most important place to avoid whitespace is at the end of a line as, known as trailing whitespace. It is invisible and can produce errors that are difficult to trace. \n",
    "\n",
    "Where to avoid whitespace:"
   ]
  },
  {
   "cell_type": "code",
   "execution_count": 21,
   "metadata": {},
   "outputs": [],
   "source": [
    "# 1. Immediately inside parenthesis, brackets or braces:\n",
    "\n",
    "# Recommended\n",
    "my_list = [1, 2, 3]\n",
    "\n",
    "# Not recommended\n",
    "my_list = [ 1, 2, 3, ]"
   ]
  },
  {
   "cell_type": "code",
   "execution_count": 22,
   "metadata": {},
   "outputs": [
    {
     "name": "stdout",
     "output_type": "stream",
     "text": [
      "5 6\n",
      "5 6\n"
     ]
    }
   ],
   "source": [
    "# 2. Before a comma, semicolon, or colon:\n",
    "\n",
    "x = 5\n",
    "y = 6\n",
    "\n",
    "# Recommended\n",
    "print(x, y)\n",
    "\n",
    "# Not recommended\n",
    "print(x , y)"
   ]
  },
  {
   "cell_type": "code",
   "execution_count": null,
   "metadata": {},
   "outputs": [],
   "source": [
    "# 3. Before the open bracket that starts an index or slice:\n",
    "\n",
    "# Recommended\n",
    "list[3]\n",
    "\n",
    "# Not recommended\n",
    "list [3]"
   ]
  },
  {
   "cell_type": "code",
   "execution_count": null,
   "metadata": {},
   "outputs": [],
   "source": [
    "# 4. Between a trailing comma and a closing parenthesis:\n",
    "\n",
    "# Recommended\n",
    "tuple = (1,)\n",
    "\n",
    "# Not recommended\n",
    "tuple = (1, )"
   ]
  },
  {
   "cell_type": "code",
   "execution_count": null,
   "metadata": {},
   "outputs": [],
   "source": [
    "# 5. To align assignment operators:\n",
    "\n",
    "# Recommended\n",
    "var1 = 5\n",
    "var2 = 6\n",
    "some_long_var = 7\n",
    "\n",
    "# Not recommended\n",
    "var1          = 5\n",
    "var2          = 6\n",
    "some_long_var = 7"
   ]
  },
  {
   "cell_type": "markdown",
   "metadata": {},
   "source": [
    "#### 3.6 Programming Recommendations\n"
   ]
  },
  {
   "cell_type": "markdown",
   "metadata": {},
   "source": [
    "**\"Simple is better than complex\"**\n",
    "- The Zen of Python [2]"
   ]
  },
  {
   "cell_type": "markdown",
   "metadata": {},
   "source": [
    "The beauty of programming is that there are always several ways to perform a similar action or achieve a certain outcome. PEP 8 does, however, make certain suggestions to remove ambiguity and preserve consistency."
   ]
  },
  {
   "cell_type": "markdown",
   "metadata": {},
   "source": [
    "**1. Don't compare Boolean values to True or False using the equivalence operator**\n"
   ]
  },
  {
   "cell_type": "code",
   "execution_count": null,
   "metadata": {},
   "outputs": [],
   "source": [
    "# Not recommended\n",
    "my_bool = 6 > 5\n",
    "if my_bool == True:\n",
    "    return \"6 is bigger than 5\"\n",
    "\n",
    "# Recommended\n",
    "if my_bool:\n",
    "    return \"6 is bigger than 5\""
   ]
  },
  {
   "cell_type": "markdown",
   "metadata": {},
   "source": [
    "**2. Use the fact that empty sequences are false in 'if' statements**"
   ]
  },
  {
   "cell_type": "code",
   "execution_count": null,
   "metadata": {},
   "outputs": [],
   "source": [
    "# Not recommended\n",
    "my_list = []\n",
    "if not len(my_list):\n",
    "    print('List is empty!')\n",
    "    \n",
    "# Recommended\n",
    "my_list = []\n",
    "if not my_list:\n",
    "    print('List is empty!')"
   ]
  },
  {
   "cell_type": "markdown",
   "metadata": {},
   "source": [
    "**3. Use 'is not' rather than 'not ... is' in 'if' statements**"
   ]
  },
  {
   "cell_type": "code",
   "execution_count": null,
   "metadata": {},
   "outputs": [],
   "source": [
    "# Not recommended\n",
    "if not x is None:\n",
    "    return 'x exists!'\n",
    "\n",
    "# Recommended\n",
    "if x is not None:\n",
    "    return 'x exists!'"
   ]
  },
  {
   "cell_type": "markdown",
   "metadata": {},
   "source": [
    "**4. Don't use 'if x:' when you mean 'if x is not None'**"
   ]
  },
  {
   "cell_type": "code",
   "execution_count": null,
   "metadata": {},
   "outputs": [],
   "source": [
    "# Not Recommended\n",
    "if arg:\n",
    "    # Do something with arg...\n",
    "    \n",
    "# Recommended\n",
    "if arg is not None:\n",
    "    # Do something with arg..."
   ]
  },
  {
   "cell_type": "markdown",
   "metadata": {},
   "source": [
    "**5. Use .startswith() and .endswith() instead of slicing**"
   ]
  },
  {
   "cell_type": "code",
   "execution_count": null,
   "metadata": {},
   "outputs": [],
   "source": [
    "# Not recommended\n",
    "if word[:3] == 'cat':\n",
    "    print('The word starts with \"cat\"')\n",
    "    \n",
    "# Recommended\n",
    "if word.startswith('cat'):\n",
    "    print('The word starts with \"cat\"')"
   ]
  },
  {
   "cell_type": "markdown",
   "metadata": {},
   "source": [
    "### 4. When *Shouldn't* It Be Used?"
   ]
  },
  {
   "cell_type": "markdown",
   "metadata": {},
   "source": [
    "A style guide is about consistency. However, in certian situations it can be important to be inconsistent as sometimes style guide recommendations aren't applicable. \n",
    "\n",
    "Some reasons to ignore a particular guideline [1]: \n",
    "\n",
    "   1. If complying would result in the breaking of backwards compatibility\n",
    "    \n",
    "   2. When applying a guidline would make the code less readable (even for someone that is used to reading code that adheres to PEP 8)\n",
    "   3. To be consistent with code that does not adhere to it\n",
    "   4. When code needs to be compatible with older versions of Python that don't support the feature recommended by the style guide"
   ]
  },
  {
   "cell_type": "markdown",
   "metadata": {},
   "source": [
    "### 5. Implementation"
   ]
  },
  {
   "cell_type": "markdown",
   "metadata": {},
   "source": [
    "There is alot to remember in order to make sure code is PEP 8 compliant. Luckily, there are a few tools to help enforce PEP 8 compliance, such as linters and autoformatters."
   ]
  },
  {
   "cell_type": "markdown",
   "metadata": {},
   "source": [
    "#### 5.1 Linters\n"
   ]
  },
  {
   "cell_type": "markdown",
   "metadata": {},
   "source": [
    "Linters are programs that analyze code and flag errors and provide suggestions on how to fix the error. Linters are especially useful when installed as extensions to a text editor, as they flag errors and stylistic problems in real time. These tools, however, only report the problems they identify in the source code and leave the changing of the code to the developers. The best linters for Python coding are:\n",
    "\n",
    "  **1. pycodestyle (previously called pep8)[8]**\n"
   ]
  },
  {
   "cell_type": "markdown",
   "metadata": {},
   "source": [
    "pycodestyle is able to check the code against many, but not all, PEP 8 conventions. Especially:\n",
    "\n",
    "   - Indentation\n",
    "   - Whitespace\n",
    "   - Blank lines\n",
    "   - Import\n",
    "   - Line length\n",
    "   - Statements\n",
    "   - Runtime\n",
    "   - Line breaks\n",
    "   \n",
    "However, some rules entailed in PEP 8 cannot be expressed with a simple algorithm while other rules are only recommendations.\n",
    "\n",
    "The following features are not in the scope of the pycodestyle library:\n",
    "\n",
    "   - Naming conventions\n",
    "   - Docstring conventions"
   ]
  },
  {
   "cell_type": "markdown",
   "metadata": {},
   "source": [
    "#### How to implement pycodestyle in Jupyter Notebook:\n",
    "\n",
    "\n"
   ]
  },
  {
   "cell_type": "markdown",
   "metadata": {},
   "source": [
    "Step 1: pip install pycodestyle\n",
    "\n",
    "Step 2: pip install pycodestyle_magic\n",
    "\n",
    "Step 3: Load in Notebook -> %load_ext pycodestyle_magic\n",
    "\n",
    "Step 4: %pycodestyle_on"
   ]
  },
  {
   "cell_type": "code",
   "execution_count": 28,
   "metadata": {},
   "outputs": [],
   "source": [
    "%load_ext pycodestyle_magic\n",
    "\n",
    "%pycodestyle_off"
   ]
  },
  {
   "cell_type": "code",
   "execution_count": 29,
   "metadata": {},
   "outputs": [
    {
     "name": "stderr",
     "output_type": "stream",
     "text": [
      "3:15: E225 missing whitespace around operator\n",
      "4:13: E225 missing whitespace around operator\n",
      "5:17: E222 multiple spaces after operator\n",
      "5:21: W291 trailing whitespace\n",
      "8:24: W291 trailing whitespace\n",
      "10:1: W391 blank line at end of file\n",
      "3:15: E225 missing whitespace around operator\n",
      "4:13: E225 missing whitespace around operator\n",
      "5:17: E222 multiple spaces after operator\n",
      "5:21: W291 trailing whitespace\n",
      "8:24: W291 trailing whitespace\n",
      "10:1: W391 blank line at end of file\n",
      "3:15: E225 missing whitespace around operator\n",
      "4:13: E225 missing whitespace around operator\n",
      "5:17: E222 multiple spaces after operator\n",
      "5:21: W291 trailing whitespace\n",
      "8:24: W291 trailing whitespace\n",
      "10:1: W391 blank line at end of file\n",
      "3:15: E225 missing whitespace around operator\n",
      "4:13: E225 missing whitespace around operator\n",
      "5:17: E222 multiple spaces after operator\n",
      "5:21: W291 trailing whitespace\n",
      "8:24: W291 trailing whitespace\n",
      "10:1: W391 blank line at end of file\n",
      "3:15: E225 missing whitespace around operator\n",
      "4:13: E225 missing whitespace around operator\n",
      "5:17: E222 multiple spaces after operator\n",
      "5:21: W291 trailing whitespace\n",
      "8:24: W291 trailing whitespace\n",
      "10:1: W391 blank line at end of file\n"
     ]
    }
   ],
   "source": [
    "# Example:\n",
    "\n",
    "variable_one =25\n",
    "variable_two=21\n",
    "variable_three =  22    \n",
    "\n",
    "total = (variable_one +\n",
    "         variable_two - \n",
    "         variable_three)\n"
   ]
  },
  {
   "cell_type": "markdown",
   "metadata": {},
   "source": [
    "#### 2. Pylint [9]\n"
   ]
  },
  {
   "cell_type": "markdown",
   "metadata": {},
   "source": [
    "Pylint is a static code checker, meaning it can analyse code without actually running it, unlike pycodestyle. Pylint checks for errors and tries to enforce a coding standard and style. It is the most commonly used tool for linting in python.\n",
    "\n",
    "Pylint cannot be implemented into Jupyter Notebook and can only take .py files. Therefore, it is suitable with any other editor. Saving a notebook as .py is alos possible, however. \n",
    "\n",
    "It includes the following features:\n",
    "\n",
    "   - Checking the length of each line\n",
    "   - Checking if variable names are well-formed according to the project's coding standard\n",
    "   - Checking if declared interfaces are truly implemented\n",
    "   \n",
    "Pylint has more error/warning checks than many other linters and is more descriptive, and is also customisable. It also delivers a code rating and comparisons in regard to previous versions of the code. \n",
    "\n",
    "Pylint is also integrated in numerous editors such as:\n",
    "\n",
    "   - Visual Studio: Python > Run PyLint\n",
    "   - Spyder: View -> Panes -> Static code analysis"
   ]
  },
  {
   "cell_type": "markdown",
   "metadata": {},
   "source": [
    "**How to install and use Pylint:**"
   ]
  },
  {
   "cell_type": "markdown",
   "metadata": {},
   "source": [
    "Step 1: pip install pylint\n",
    "\n",
    "Step 2: pylint module.py, (module2.py),..."
   ]
  },
  {
   "cell_type": "code",
   "execution_count": null,
   "metadata": {},
   "outputs": [],
   "source": [
    "# Example pylint output of test_script.py\n",
    "\n",
    "$ pylint test_script.py\n",
    "No config file found, using default configuration\n",
    "************* Module test_script\n",
    "C:  6, 0: No space allowed before :\n",
    "class DoSomething(SomeCommand) :\n",
    "                            ^ (bad-whitespace)\n",
    "C:  9, 0: Exactly one space required after comma\n",
    "        for i in range(1,11):\n",
    "                        ^ (bad-whitespace)\n",
    "C: 13, 0: Trailing whitespace (trailing-whitespace)\n",
    "C: 16, 0: Trailing whitespace (trailing-whitespace)\n",
    "C: 17, 0: Final newline missing (missing-final-newline)\n",
    "C: 17, 0: No space allowed before :\n",
    "        else  : return False\n",
    "            ^ (bad-whitespace)\n",
    "C:  1, 0: Missing module docstring (missing-docstring)\n",
    "C:  2, 0: Multiple imports on one line (os, sys) (multiple-imports)\n",
    "E:  4, 0: Attempted relative import beyond top-level package (relative-beyond-top-level)\n",
    "C:  6, 0: Missing class docstring (missing-docstring)\n",
    "E:  6,18: Undefined variable 'SomeCommand' (undefined-variable)\n",
    "C: 15, 4: Missing method docstring (missing-docstring)\n",
    "R: 16, 8: The if statement can be replaced with 'return bool(test)' (simplifiable-if-statement)\n",
    "R: 16, 8: Unnecessary \"else\" after \"return\" (no-else-return)\n",
    "C: 16,22: More than one statement on a single line (multiple-statements)\n",
    "R:  6, 0: Too few public methods (1/2) (too-few-public-methods)\n",
    "W:  2, 0: Unused import sys (unused-import)\n",
    "W:  2, 0: Unused import os (unused-import)\n",
    "W:  3, 0: Unused import logging (unused-import)\n",
    "W:  4, 0: Unused import views (unused-import)\n",
    "\n",
    "----------------------------------------------------------------------\n",
    "Your code has been rated at -10.00/10 (previous run: -10.00/10, +0.00)"
   ]
  },
  {
   "cell_type": "markdown",
   "metadata": {},
   "source": [
    "#### 5.2 Auto-formatters"
   ]
  },
  {
   "cell_type": "markdown",
   "metadata": {},
   "source": [
    "Auto-formatters are tools that will format code in a way that complies with PEP 8. One of the most popular PEP 8 Auto-formatters is Black and its Jupyter Notebook version Jupyter Black. Whereas Black autoformats whole modules, Jupyter Black reformats code in a notebooks code cell. \n",
    "\n",
    "Black is able to be integrated with numerous editors such as PyCharm and Visual Studio Code. [10]"
   ]
  },
  {
   "cell_type": "markdown",
   "metadata": {},
   "source": [
    "**1. Installing Black**\n",
    "\n"
   ]
  },
  {
   "cell_type": "markdown",
   "metadata": {},
   "source": [
    "Step 1: pip install black\n",
    "\n",
    "Step 2: black module.py"
   ]
  },
  {
   "cell_type": "markdown",
   "metadata": {},
   "source": [
    "After applying black to the desired module, black will reformat and save the changes. "
   ]
  },
  {
   "cell_type": "markdown",
   "metadata": {},
   "source": [
    "**2. Installing Jupyter Black**"
   ]
  },
  {
   "cell_type": "markdown",
   "metadata": {},
   "source": [
    "Step 1: pip install jupyter_contrib_nbextensions\n",
    "\n",
    "Step 2: jupyter nbextension install https://github.com/drillan/jupyter-black/archive/master.zip --user\n",
    "\n",
    "Step 3: jupyter nbextension enable jupyter-black-master/jupyter-black\n",
    "\n",
    "Step 4: Open notebook and click on 'Black' button on desired cell to apply\n"
   ]
  },
  {
   "cell_type": "code",
   "execution_count": null,
   "metadata": {},
   "outputs": [],
   "source": [
    "# Example Before:\n",
    "\n",
    "def add(a,\n",
    "       \n",
    "       b):\n",
    "    answer =  a +      b\n",
    "    \n",
    "    \n",
    "    return answer\n",
    "\n",
    "\n",
    "def sub(c,      d):\n",
    "    answer = c-    d\n",
    "    \n",
    "    return answer"
   ]
  },
  {
   "cell_type": "code",
   "execution_count": null,
   "metadata": {},
   "outputs": [],
   "source": [
    "# Example After:\n",
    "\n",
    "\n",
    "def add(a, b):\n",
    "    answer = a + b\n",
    "\n",
    "    return answer\n",
    "\n",
    "\n",
    "def sub(c, d):\n",
    "    answer = c - d\n",
    "\n",
    "    return answer"
   ]
  },
  {
   "cell_type": "markdown",
   "metadata": {},
   "source": [
    "### 6. References"
   ]
  },
  {
   "cell_type": "markdown",
   "metadata": {},
   "source": [
    "[1] https://pep8.org\n",
    "\n",
    "[2] https://en.wikipedia.org/wiki/Zen_of_Python\n",
    "\n",
    "[3] https://www.codeflow.site/de/article/python-pep8\n",
    "\n",
    "[4] https://realpython.com/python-pep8/\n",
    "\n",
    "[5] https://jupyter-notebook.readthedocs.io/en/latest/frontend_config.html#example-changing-the-notebook-s-default-indentation\n",
    "\n",
    "[6] https://www.python.org/dev/peps/pep-0257/\n",
    "\n",
    "[7] https://sourcelevel.io/blog/what-is-a-linter-and-why-your-team-should-use-it\n",
    "\n",
    "[8] https://pypi.org/project/pycodestyle/\n",
    "\n",
    "[9] http://pylint.pycqa.org/en/latest/intro.html\n",
    "\n",
    "[10] https://www.freecodecamp.org/news/auto-format-your-python-code-with-black/"
   ]
  },
  {
   "cell_type": "code",
   "execution_count": null,
   "metadata": {},
   "outputs": [],
   "source": []
  }
 ],
 "metadata": {
  "kernelspec": {
   "display_name": "Python 3",
   "language": "python",
   "name": "python3"
  },
  "language_info": {
   "codemirror_mode": {
    "name": "ipython",
    "version": 3
   },
   "file_extension": ".py",
   "mimetype": "text/x-python",
   "name": "python",
   "nbconvert_exporter": "python",
   "pygments_lexer": "ipython3",
   "version": "3.8.3"
  }
 },
 "nbformat": 4,
 "nbformat_minor": 4
}
